{
 "cells": [
  {
   "cell_type": "markdown",
   "metadata": {},
   "source": [
    "# ATP Tennis  - Predizione Vincitore\n",
    "\n",
    "<img src=\"logoATP.png\"  width=\"300\">\n",
    "\n",
    "## Overview  \n",
    "In questo documento vogliamo presentare tutti i passaggi necessari per poter predire il vincitore di Australian Open.\n",
    "\n",
    "Questi sono i passaggi fatti :\n",
    "- Preparazione dei dati \n",
    "- Divisione del dataset in train e test\n",
    "- Allenamento dei modelli\n",
    "- Creazione partite\n",
    "\n",
    "## DataSet \n",
    "Ho usato il sito http://tennis-data.co.uk/alldata.php per prelevare i dati neccessari per l'allenamento / predizione."
   ]
  },
  {
   "cell_type": "code",
   "execution_count": 1,
   "metadata": {},
   "outputs": [],
   "source": [
    "#-------------------------------------------------------Library imports----------------------------------------------------------\n",
    "#Importo la liberia numpy perchè è un pacchetto che fornisce oggetti di tipo array multidimensionali, operazioni veloci sui array etc\n",
    "import numpy as np\n",
    "#Importo la libreria di panda perchè : esistono metodi build-in in python che si sovrapongono con i metodi di panda.\n",
    "#Es map() / all() / any() / filter() etc. Per evitare le collisioni di questi metodi importo la libreria di panda\n",
    "import pandas as pd\n",
    "#Importo la libreria seaborn per poter visualizzare i drawing \n",
    "import seaborn as sns\n",
    "#Importo la libreria di pickle per poter serializzare e deserializzare le \n",
    "#strutture di oggetti Python chiamate anche marshalling o appiattimento.\n",
    "import pickle\n",
    "\n",
    "from sklearn.linear_model import LogisticRegression\n",
    "from sklearn import preprocessing\n",
    "from sklearn import model_selection \n",
    "from sklearn.model_selection import GridSearchCV\n",
    "from sklearn.model_selection import train_test_split\n",
    "from sklearn.metrics import log_loss\n",
    "from sklearn.linear_model import LinearRegression\n",
    "from sklearn.ensemble import RandomForestClassifier, RandomForestRegressor\n",
    "from sklearn.model_selection import RandomizedSearchCV\n",
    "import os.path as osp\n",
    "import os\n",
    "import logging\n",
    "from glob import glob\n",
    "import numpy as np\n",
    "import re   \n",
    "import plotnine as pln\n",
    "from matplotlib import pyplot as plt\n",
    "from sklearn import neighbors\n",
    "from sklearn.metrics import accuracy_score, confusion_matrix, classification_report\n",
    "from sklearn.model_selection import train_test_split\n",
    "\n",
    "import warnings\n",
    "warnings.filterwarnings('ignore')\n",
    "\n",
    "import matplotlib.pyplot as plt\n",
    "%matplotlib inline\n",
    "\n",
    "#-------------------------------------------------------Dataset import----------------------------------------------------------\n",
    "import_dataset = 'DATASETS/ATP_dataset_2019_2011.xlsx'\n",
    "imd = pd.read_excel(import_dataset)\n",
    "\n",
    "import_dataset2 = 'DATASETS/Dataset_2.csv'\n",
    "imd2 = pd.read_csv(import_dataset2)\n",
    "\n",
    "import_dataset3 = 'DATASETS/Dataset_3.csv'\n",
    "imd3 = pd.read_csv(import_dataset3)\n",
    "\n",
    "import_dataset4 = 'DATASETS/DN_AU2.xlsx'\n",
    "imd4 = pd.read_excel(import_dataset4)\n",
    "\n",
    "import_dataset5 = 'DATASETS/bd_names_l.xlsx'\n",
    "imd5 = pd.read_excel(import_dataset5)\n",
    "\n",
    "import_dataset6 = 'DATASETS/bd_names_w.xlsx'\n",
    "imd6 = pd.read_excel(import_dataset6)"
   ]
  },
  {
   "cell_type": "markdown",
   "metadata": {},
   "source": [
    "# Data Processing \n",
    "In questa parte del documento mi occupo del data processing."
   ]
  },
  {
   "cell_type": "code",
   "execution_count": 2,
   "metadata": {},
   "outputs": [],
   "source": [
    "np.random.seed(870383)"
   ]
  },
  {
   "cell_type": "code",
   "execution_count": 3,
   "metadata": {},
   "outputs": [
    {
     "data": {
      "text/html": [
       "<div>\n",
       "<style scoped>\n",
       "    .dataframe tbody tr th:only-of-type {\n",
       "        vertical-align: middle;\n",
       "    }\n",
       "\n",
       "    .dataframe tbody tr th {\n",
       "        vertical-align: top;\n",
       "    }\n",
       "\n",
       "    .dataframe thead th {\n",
       "        text-align: right;\n",
       "    }\n",
       "</style>\n",
       "<table border=\"1\" class=\"dataframe\">\n",
       "  <thead>\n",
       "    <tr style=\"text-align: right;\">\n",
       "      <th></th>\n",
       "      <th>ID</th>\n",
       "      <th>ATP</th>\n",
       "      <th>Location</th>\n",
       "      <th>Tournament</th>\n",
       "      <th>Date</th>\n",
       "      <th>Series</th>\n",
       "      <th>Court</th>\n",
       "      <th>Surface</th>\n",
       "      <th>Round</th>\n",
       "      <th>Best of</th>\n",
       "      <th>P1</th>\n",
       "      <th>P1Rank</th>\n",
       "      <th>P1Pts</th>\n",
       "      <th>P1sets</th>\n",
       "      <th>P2</th>\n",
       "      <th>P2Rank</th>\n",
       "      <th>P2Pts</th>\n",
       "      <th>P2sets</th>\n",
       "    </tr>\n",
       "  </thead>\n",
       "  <tbody>\n",
       "    <tr>\n",
       "      <th>0</th>\n",
       "      <td>1</td>\n",
       "      <td>1</td>\n",
       "      <td>Brisbane</td>\n",
       "      <td>Brisbane International</td>\n",
       "      <td>2016-01-04</td>\n",
       "      <td>ATP250</td>\n",
       "      <td>Outdoor</td>\n",
       "      <td>Hard</td>\n",
       "      <td>1st Round</td>\n",
       "      <td>3</td>\n",
       "      <td>Dimitrov G.</td>\n",
       "      <td>28.0</td>\n",
       "      <td>1360.0</td>\n",
       "      <td>2.0</td>\n",
       "      <td>Simon G.</td>\n",
       "      <td>15.0</td>\n",
       "      <td>2145.0</td>\n",
       "      <td>0.0</td>\n",
       "    </tr>\n",
       "    <tr>\n",
       "      <th>1</th>\n",
       "      <td>2</td>\n",
       "      <td>1</td>\n",
       "      <td>Brisbane</td>\n",
       "      <td>Brisbane International</td>\n",
       "      <td>2016-01-04</td>\n",
       "      <td>ATP250</td>\n",
       "      <td>Outdoor</td>\n",
       "      <td>Hard</td>\n",
       "      <td>1st Round</td>\n",
       "      <td>3</td>\n",
       "      <td>Kudla D.</td>\n",
       "      <td>69.0</td>\n",
       "      <td>719.0</td>\n",
       "      <td>2.0</td>\n",
       "      <td>Smith J.P.</td>\n",
       "      <td>129.0</td>\n",
       "      <td>459.0</td>\n",
       "      <td>1.0</td>\n",
       "    </tr>\n",
       "    <tr>\n",
       "      <th>2</th>\n",
       "      <td>3</td>\n",
       "      <td>1</td>\n",
       "      <td>Brisbane</td>\n",
       "      <td>Brisbane International</td>\n",
       "      <td>2016-01-04</td>\n",
       "      <td>ATP250</td>\n",
       "      <td>Outdoor</td>\n",
       "      <td>Hard</td>\n",
       "      <td>1st Round</td>\n",
       "      <td>3</td>\n",
       "      <td>Kamke T.</td>\n",
       "      <td>277.0</td>\n",
       "      <td>185.0</td>\n",
       "      <td>2.0</td>\n",
       "      <td>Mitchell B.</td>\n",
       "      <td>231.0</td>\n",
       "      <td>225.0</td>\n",
       "      <td>0.0</td>\n",
       "    </tr>\n",
       "    <tr>\n",
       "      <th>3</th>\n",
       "      <td>4</td>\n",
       "      <td>1</td>\n",
       "      <td>Brisbane</td>\n",
       "      <td>Brisbane International</td>\n",
       "      <td>2016-01-04</td>\n",
       "      <td>ATP250</td>\n",
       "      <td>Outdoor</td>\n",
       "      <td>Hard</td>\n",
       "      <td>1st Round</td>\n",
       "      <td>3</td>\n",
       "      <td>Chung H.</td>\n",
       "      <td>51.0</td>\n",
       "      <td>817.0</td>\n",
       "      <td>2.0</td>\n",
       "      <td>Groth S.</td>\n",
       "      <td>60.0</td>\n",
       "      <td>782.0</td>\n",
       "      <td>0.0</td>\n",
       "    </tr>\n",
       "    <tr>\n",
       "      <th>4</th>\n",
       "      <td>5</td>\n",
       "      <td>1</td>\n",
       "      <td>Brisbane</td>\n",
       "      <td>Brisbane International</td>\n",
       "      <td>2016-01-05</td>\n",
       "      <td>ATP250</td>\n",
       "      <td>Outdoor</td>\n",
       "      <td>Hard</td>\n",
       "      <td>1st Round</td>\n",
       "      <td>3</td>\n",
       "      <td>Goffin D.</td>\n",
       "      <td>16.0</td>\n",
       "      <td>1880.0</td>\n",
       "      <td>2.0</td>\n",
       "      <td>Bellucci T.</td>\n",
       "      <td>37.0</td>\n",
       "      <td>1105.0</td>\n",
       "      <td>0.0</td>\n",
       "    </tr>\n",
       "  </tbody>\n",
       "</table>\n",
       "</div>"
      ],
      "text/plain": [
       "   ID  ATP  Location              Tournament       Date  Series    Court  \\\n",
       "0   1    1  Brisbane  Brisbane International 2016-01-04  ATP250  Outdoor   \n",
       "1   2    1  Brisbane  Brisbane International 2016-01-04  ATP250  Outdoor   \n",
       "2   3    1  Brisbane  Brisbane International 2016-01-04  ATP250  Outdoor   \n",
       "3   4    1  Brisbane  Brisbane International 2016-01-04  ATP250  Outdoor   \n",
       "4   5    1  Brisbane  Brisbane International 2016-01-05  ATP250  Outdoor   \n",
       "\n",
       "  Surface      Round  Best of           P1  P1Rank   P1Pts  P1sets  \\\n",
       "0    Hard  1st Round        3  Dimitrov G.    28.0  1360.0     2.0   \n",
       "1    Hard  1st Round        3     Kudla D.    69.0   719.0     2.0   \n",
       "2    Hard  1st Round        3     Kamke T.   277.0   185.0     2.0   \n",
       "3    Hard  1st Round        3     Chung H.    51.0   817.0     2.0   \n",
       "4    Hard  1st Round        3    Goffin D.    16.0  1880.0     2.0   \n",
       "\n",
       "            P2  P2Rank   P2Pts  P2sets  \n",
       "0     Simon G.    15.0  2145.0     0.0  \n",
       "1   Smith J.P.   129.0   459.0     1.0  \n",
       "2  Mitchell B.   231.0   225.0     0.0  \n",
       "3     Groth S.    60.0   782.0     0.0  \n",
       "4  Bellucci T.    37.0  1105.0     0.0  "
      ]
     },
     "execution_count": 3,
     "metadata": {},
     "output_type": "execute_result"
    }
   ],
   "source": [
    "imd.head()"
   ]
  },
  {
   "cell_type": "code",
   "execution_count": 4,
   "metadata": {},
   "outputs": [],
   "source": [
    "imd = imd.merge(imd2, how = 'left', on = ['P1'])"
   ]
  },
  {
   "cell_type": "code",
   "execution_count": 5,
   "metadata": {},
   "outputs": [],
   "source": [
    "imd = imd.merge(imd3, how = 'left', on = ['P2'])"
   ]
  },
  {
   "cell_type": "code",
   "execution_count": 6,
   "metadata": {},
   "outputs": [],
   "source": [
    "imd = imd.merge(imd5, how = 'left', on = ['P2'])"
   ]
  },
  {
   "cell_type": "code",
   "execution_count": 7,
   "metadata": {},
   "outputs": [],
   "source": [
    "imd = imd.merge(imd6, how = 'left', on = ['P1'])"
   ]
  },
  {
   "cell_type": "code",
   "execution_count": 8,
   "metadata": {},
   "outputs": [],
   "source": [
    "imd = imd.fillna(method='ffill')"
   ]
  },
  {
   "cell_type": "code",
   "execution_count": 9,
   "metadata": {},
   "outputs": [
    {
     "data": {
      "text/html": [
       "<div>\n",
       "<style scoped>\n",
       "    .dataframe tbody tr th:only-of-type {\n",
       "        vertical-align: middle;\n",
       "    }\n",
       "\n",
       "    .dataframe tbody tr th {\n",
       "        vertical-align: top;\n",
       "    }\n",
       "\n",
       "    .dataframe thead th {\n",
       "        text-align: right;\n",
       "    }\n",
       "</style>\n",
       "<table border=\"1\" class=\"dataframe\">\n",
       "  <thead>\n",
       "    <tr style=\"text-align: right;\">\n",
       "      <th></th>\n",
       "      <th>ID</th>\n",
       "      <th>ATP</th>\n",
       "      <th>Location</th>\n",
       "      <th>Tournament</th>\n",
       "      <th>Date</th>\n",
       "      <th>Series</th>\n",
       "      <th>Court</th>\n",
       "      <th>Surface</th>\n",
       "      <th>Round</th>\n",
       "      <th>Best of</th>\n",
       "      <th>...</th>\n",
       "      <th>gEloP1</th>\n",
       "      <th>EloP2</th>\n",
       "      <th>HardRawP2</th>\n",
       "      <th>ClayRawP2</th>\n",
       "      <th>GrassRawP2</th>\n",
       "      <th>hEloP2</th>\n",
       "      <th>cEloP2</th>\n",
       "      <th>gEloP2</th>\n",
       "      <th>BirthdateP2</th>\n",
       "      <th>BirthdateP1</th>\n",
       "    </tr>\n",
       "  </thead>\n",
       "  <tbody>\n",
       "    <tr>\n",
       "      <th>0</th>\n",
       "      <td>1</td>\n",
       "      <td>1</td>\n",
       "      <td>Brisbane</td>\n",
       "      <td>Brisbane International</td>\n",
       "      <td>2016-01-04</td>\n",
       "      <td>ATP250</td>\n",
       "      <td>Outdoor</td>\n",
       "      <td>Hard</td>\n",
       "      <td>1st Round</td>\n",
       "      <td>3</td>\n",
       "      <td>...</td>\n",
       "      <td>1672.8</td>\n",
       "      <td>1786.5</td>\n",
       "      <td>1708.5</td>\n",
       "      <td>1669.1</td>\n",
       "      <td>1618.8</td>\n",
       "      <td>1747.5</td>\n",
       "      <td>1727.8</td>\n",
       "      <td>1702.6</td>\n",
       "      <td>1984-12-27</td>\n",
       "      <td>1991-05-16</td>\n",
       "    </tr>\n",
       "    <tr>\n",
       "      <th>1</th>\n",
       "      <td>2</td>\n",
       "      <td>1</td>\n",
       "      <td>Brisbane</td>\n",
       "      <td>Brisbane International</td>\n",
       "      <td>2016-01-04</td>\n",
       "      <td>ATP250</td>\n",
       "      <td>Outdoor</td>\n",
       "      <td>Hard</td>\n",
       "      <td>1st Round</td>\n",
       "      <td>3</td>\n",
       "      <td>...</td>\n",
       "      <td>1587.2</td>\n",
       "      <td>1459.0</td>\n",
       "      <td>1390.1</td>\n",
       "      <td>1160.4</td>\n",
       "      <td>1465.3</td>\n",
       "      <td>1424.6</td>\n",
       "      <td>1309.7</td>\n",
       "      <td>1462.2</td>\n",
       "      <td>1989-12-04</td>\n",
       "      <td>1992-08-17</td>\n",
       "    </tr>\n",
       "    <tr>\n",
       "      <th>2</th>\n",
       "      <td>3</td>\n",
       "      <td>1</td>\n",
       "      <td>Brisbane</td>\n",
       "      <td>Brisbane International</td>\n",
       "      <td>2016-01-04</td>\n",
       "      <td>ATP250</td>\n",
       "      <td>Outdoor</td>\n",
       "      <td>Hard</td>\n",
       "      <td>1st Round</td>\n",
       "      <td>3</td>\n",
       "      <td>...</td>\n",
       "      <td>1494.6</td>\n",
       "      <td>1459.0</td>\n",
       "      <td>1390.1</td>\n",
       "      <td>1160.4</td>\n",
       "      <td>1465.3</td>\n",
       "      <td>1424.6</td>\n",
       "      <td>1309.7</td>\n",
       "      <td>1462.2</td>\n",
       "      <td>1989-12-04</td>\n",
       "      <td>1986-05-21</td>\n",
       "    </tr>\n",
       "    <tr>\n",
       "      <th>3</th>\n",
       "      <td>4</td>\n",
       "      <td>1</td>\n",
       "      <td>Brisbane</td>\n",
       "      <td>Brisbane International</td>\n",
       "      <td>2016-01-04</td>\n",
       "      <td>ATP250</td>\n",
       "      <td>Outdoor</td>\n",
       "      <td>Hard</td>\n",
       "      <td>1st Round</td>\n",
       "      <td>3</td>\n",
       "      <td>...</td>\n",
       "      <td>1549.5</td>\n",
       "      <td>1459.0</td>\n",
       "      <td>1390.1</td>\n",
       "      <td>1160.4</td>\n",
       "      <td>1465.3</td>\n",
       "      <td>1424.6</td>\n",
       "      <td>1309.7</td>\n",
       "      <td>1462.2</td>\n",
       "      <td>1989-12-04</td>\n",
       "      <td>1996-05-19</td>\n",
       "    </tr>\n",
       "    <tr>\n",
       "      <th>4</th>\n",
       "      <td>5</td>\n",
       "      <td>1</td>\n",
       "      <td>Brisbane</td>\n",
       "      <td>Brisbane International</td>\n",
       "      <td>2016-01-05</td>\n",
       "      <td>ATP250</td>\n",
       "      <td>Outdoor</td>\n",
       "      <td>Hard</td>\n",
       "      <td>1st Round</td>\n",
       "      <td>3</td>\n",
       "      <td>...</td>\n",
       "      <td>1807.2</td>\n",
       "      <td>1472.1</td>\n",
       "      <td>1507.1</td>\n",
       "      <td>1435.0</td>\n",
       "      <td>1343.6</td>\n",
       "      <td>1489.6</td>\n",
       "      <td>1453.6</td>\n",
       "      <td>1407.9</td>\n",
       "      <td>1987-12-30</td>\n",
       "      <td>1990-12-07</td>\n",
       "    </tr>\n",
       "  </tbody>\n",
       "</table>\n",
       "<p>5 rows × 34 columns</p>\n",
       "</div>"
      ],
      "text/plain": [
       "   ID  ATP  Location              Tournament       Date  Series    Court  \\\n",
       "0   1    1  Brisbane  Brisbane International 2016-01-04  ATP250  Outdoor   \n",
       "1   2    1  Brisbane  Brisbane International 2016-01-04  ATP250  Outdoor   \n",
       "2   3    1  Brisbane  Brisbane International 2016-01-04  ATP250  Outdoor   \n",
       "3   4    1  Brisbane  Brisbane International 2016-01-04  ATP250  Outdoor   \n",
       "4   5    1  Brisbane  Brisbane International 2016-01-05  ATP250  Outdoor   \n",
       "\n",
       "  Surface      Round  Best of  ...  gEloP1   EloP2  HardRawP2  ClayRawP2  \\\n",
       "0    Hard  1st Round        3  ...  1672.8  1786.5     1708.5     1669.1   \n",
       "1    Hard  1st Round        3  ...  1587.2  1459.0     1390.1     1160.4   \n",
       "2    Hard  1st Round        3  ...  1494.6  1459.0     1390.1     1160.4   \n",
       "3    Hard  1st Round        3  ...  1549.5  1459.0     1390.1     1160.4   \n",
       "4    Hard  1st Round        3  ...  1807.2  1472.1     1507.1     1435.0   \n",
       "\n",
       "  GrassRawP2  hEloP2  cEloP2  gEloP2  BirthdateP2  BirthdateP1  \n",
       "0     1618.8  1747.5  1727.8  1702.6   1984-12-27   1991-05-16  \n",
       "1     1465.3  1424.6  1309.7  1462.2   1989-12-04   1992-08-17  \n",
       "2     1465.3  1424.6  1309.7  1462.2   1989-12-04   1986-05-21  \n",
       "3     1465.3  1424.6  1309.7  1462.2   1989-12-04   1996-05-19  \n",
       "4     1343.6  1489.6  1453.6  1407.9   1987-12-30   1990-12-07  \n",
       "\n",
       "[5 rows x 34 columns]"
      ]
     },
     "execution_count": 9,
     "metadata": {},
     "output_type": "execute_result"
    }
   ],
   "source": [
    "imd.head()"
   ]
  },
  {
   "cell_type": "code",
   "execution_count": 10,
   "metadata": {},
   "outputs": [],
   "source": [
    "def AgeProcessing():\n",
    "    imd['AgeP2'] = imd['Date'] - imd['BirthdateP2']\n",
    "    imd['AgeP2'] = imd['AgeP2']/np.timedelta64(1,'Y')\n",
    "    imd['AgeP1'] = imd['Date'] - imd['BirthdateP1']\n",
    "    imd['AgeP1'] = imd['AgeP1']/np.timedelta64(1,'Y')"
   ]
  },
  {
   "cell_type": "code",
   "execution_count": 11,
   "metadata": {},
   "outputs": [],
   "source": [
    "AgeProcessing()"
   ]
  },
  {
   "cell_type": "code",
   "execution_count": 12,
   "metadata": {},
   "outputs": [],
   "source": [
    "def processing():\n",
    "    imd.drop(axis=1,columns=['Location'], inplace=True)\n",
    "    imd['Surface'] = imd['Surface'].map({'Hard':1,'Clay':2,'Grass':3})\n",
    "    imd['Series']  = imd['Series'].map({'ATP250':0,'ATP500':1,'Master 1000':2,'Master Cup':3,'Grand Slam':4})\n",
    "    imd['Court']   = imd['Court'].map({'Outdoor':1,'Indorr':2})\n",
    "    vit = 0\n",
    "    imd['Vittoria'] = vit\n",
    "    "
   ]
  },
  {
   "cell_type": "code",
   "execution_count": 13,
   "metadata": {},
   "outputs": [],
   "source": [
    "processing()"
   ]
  },
  {
   "cell_type": "code",
   "execution_count": 14,
   "metadata": {},
   "outputs": [
    {
     "data": {
      "text/html": [
       "<div>\n",
       "<style scoped>\n",
       "    .dataframe tbody tr th:only-of-type {\n",
       "        vertical-align: middle;\n",
       "    }\n",
       "\n",
       "    .dataframe tbody tr th {\n",
       "        vertical-align: top;\n",
       "    }\n",
       "\n",
       "    .dataframe thead th {\n",
       "        text-align: right;\n",
       "    }\n",
       "</style>\n",
       "<table border=\"1\" class=\"dataframe\">\n",
       "  <thead>\n",
       "    <tr style=\"text-align: right;\">\n",
       "      <th></th>\n",
       "      <th>ID</th>\n",
       "      <th>ATP</th>\n",
       "      <th>Tournament</th>\n",
       "      <th>Date</th>\n",
       "      <th>Series</th>\n",
       "      <th>Court</th>\n",
       "      <th>Surface</th>\n",
       "      <th>Round</th>\n",
       "      <th>Best of</th>\n",
       "      <th>P1</th>\n",
       "      <th>...</th>\n",
       "      <th>ClayRawP2</th>\n",
       "      <th>GrassRawP2</th>\n",
       "      <th>hEloP2</th>\n",
       "      <th>cEloP2</th>\n",
       "      <th>gEloP2</th>\n",
       "      <th>BirthdateP2</th>\n",
       "      <th>BirthdateP1</th>\n",
       "      <th>AgeP2</th>\n",
       "      <th>AgeP1</th>\n",
       "      <th>Vittoria</th>\n",
       "    </tr>\n",
       "  </thead>\n",
       "  <tbody>\n",
       "    <tr>\n",
       "      <th>0</th>\n",
       "      <td>1</td>\n",
       "      <td>1</td>\n",
       "      <td>Brisbane International</td>\n",
       "      <td>2016-01-04</td>\n",
       "      <td>0.0</td>\n",
       "      <td>1.0</td>\n",
       "      <td>1</td>\n",
       "      <td>1st Round</td>\n",
       "      <td>3</td>\n",
       "      <td>Dimitrov G.</td>\n",
       "      <td>...</td>\n",
       "      <td>1669.1</td>\n",
       "      <td>1618.8</td>\n",
       "      <td>1747.5</td>\n",
       "      <td>1727.8</td>\n",
       "      <td>1702.6</td>\n",
       "      <td>1984-12-27</td>\n",
       "      <td>1991-05-16</td>\n",
       "      <td>31.020486</td>\n",
       "      <td>24.638425</td>\n",
       "      <td>0</td>\n",
       "    </tr>\n",
       "    <tr>\n",
       "      <th>1</th>\n",
       "      <td>2</td>\n",
       "      <td>1</td>\n",
       "      <td>Brisbane International</td>\n",
       "      <td>2016-01-04</td>\n",
       "      <td>0.0</td>\n",
       "      <td>1.0</td>\n",
       "      <td>1</td>\n",
       "      <td>1st Round</td>\n",
       "      <td>3</td>\n",
       "      <td>Kudla D.</td>\n",
       "      <td>...</td>\n",
       "      <td>1160.4</td>\n",
       "      <td>1465.3</td>\n",
       "      <td>1424.6</td>\n",
       "      <td>1309.7</td>\n",
       "      <td>1462.2</td>\n",
       "      <td>1989-12-04</td>\n",
       "      <td>1992-08-17</td>\n",
       "      <td>26.084040</td>\n",
       "      <td>23.381726</td>\n",
       "      <td>0</td>\n",
       "    </tr>\n",
       "    <tr>\n",
       "      <th>2</th>\n",
       "      <td>3</td>\n",
       "      <td>1</td>\n",
       "      <td>Brisbane International</td>\n",
       "      <td>2016-01-04</td>\n",
       "      <td>0.0</td>\n",
       "      <td>1.0</td>\n",
       "      <td>1</td>\n",
       "      <td>1st Round</td>\n",
       "      <td>3</td>\n",
       "      <td>Kamke T.</td>\n",
       "      <td>...</td>\n",
       "      <td>1160.4</td>\n",
       "      <td>1465.3</td>\n",
       "      <td>1424.6</td>\n",
       "      <td>1309.7</td>\n",
       "      <td>1462.2</td>\n",
       "      <td>1989-12-04</td>\n",
       "      <td>1986-05-21</td>\n",
       "      <td>26.084040</td>\n",
       "      <td>29.624154</td>\n",
       "      <td>0</td>\n",
       "    </tr>\n",
       "    <tr>\n",
       "      <th>3</th>\n",
       "      <td>4</td>\n",
       "      <td>1</td>\n",
       "      <td>Brisbane International</td>\n",
       "      <td>2016-01-04</td>\n",
       "      <td>0.0</td>\n",
       "      <td>1.0</td>\n",
       "      <td>1</td>\n",
       "      <td>1st Round</td>\n",
       "      <td>3</td>\n",
       "      <td>Chung H.</td>\n",
       "      <td>...</td>\n",
       "      <td>1160.4</td>\n",
       "      <td>1465.3</td>\n",
       "      <td>1424.6</td>\n",
       "      <td>1309.7</td>\n",
       "      <td>1462.2</td>\n",
       "      <td>1989-12-04</td>\n",
       "      <td>1996-05-19</td>\n",
       "      <td>26.084040</td>\n",
       "      <td>19.628055</td>\n",
       "      <td>0</td>\n",
       "    </tr>\n",
       "    <tr>\n",
       "      <th>4</th>\n",
       "      <td>5</td>\n",
       "      <td>1</td>\n",
       "      <td>Brisbane International</td>\n",
       "      <td>2016-01-05</td>\n",
       "      <td>0.0</td>\n",
       "      <td>1.0</td>\n",
       "      <td>1</td>\n",
       "      <td>1st Round</td>\n",
       "      <td>3</td>\n",
       "      <td>Goffin D.</td>\n",
       "      <td>...</td>\n",
       "      <td>1435.0</td>\n",
       "      <td>1343.6</td>\n",
       "      <td>1489.6</td>\n",
       "      <td>1453.6</td>\n",
       "      <td>1407.9</td>\n",
       "      <td>1987-12-30</td>\n",
       "      <td>1990-12-07</td>\n",
       "      <td>28.017002</td>\n",
       "      <td>25.079228</td>\n",
       "      <td>0</td>\n",
       "    </tr>\n",
       "  </tbody>\n",
       "</table>\n",
       "<p>5 rows × 36 columns</p>\n",
       "</div>"
      ],
      "text/plain": [
       "   ID  ATP              Tournament       Date  Series  Court  Surface  \\\n",
       "0   1    1  Brisbane International 2016-01-04     0.0    1.0        1   \n",
       "1   2    1  Brisbane International 2016-01-04     0.0    1.0        1   \n",
       "2   3    1  Brisbane International 2016-01-04     0.0    1.0        1   \n",
       "3   4    1  Brisbane International 2016-01-04     0.0    1.0        1   \n",
       "4   5    1  Brisbane International 2016-01-05     0.0    1.0        1   \n",
       "\n",
       "       Round  Best of           P1  ...  ClayRawP2  GrassRawP2  hEloP2  \\\n",
       "0  1st Round        3  Dimitrov G.  ...     1669.1      1618.8  1747.5   \n",
       "1  1st Round        3     Kudla D.  ...     1160.4      1465.3  1424.6   \n",
       "2  1st Round        3     Kamke T.  ...     1160.4      1465.3  1424.6   \n",
       "3  1st Round        3     Chung H.  ...     1160.4      1465.3  1424.6   \n",
       "4  1st Round        3    Goffin D.  ...     1435.0      1343.6  1489.6   \n",
       "\n",
       "   cEloP2  gEloP2  BirthdateP2  BirthdateP1      AgeP2      AgeP1  Vittoria  \n",
       "0  1727.8  1702.6   1984-12-27   1991-05-16  31.020486  24.638425         0  \n",
       "1  1309.7  1462.2   1989-12-04   1992-08-17  26.084040  23.381726         0  \n",
       "2  1309.7  1462.2   1989-12-04   1986-05-21  26.084040  29.624154         0  \n",
       "3  1309.7  1462.2   1989-12-04   1996-05-19  26.084040  19.628055         0  \n",
       "4  1453.6  1407.9   1987-12-30   1990-12-07  28.017002  25.079228         0  \n",
       "\n",
       "[5 rows x 36 columns]"
      ]
     },
     "execution_count": 14,
     "metadata": {},
     "output_type": "execute_result"
    }
   ],
   "source": [
    "imd.head()"
   ]
  },
  {
   "cell_type": "code",
   "execution_count": 15,
   "metadata": {},
   "outputs": [],
   "source": [
    "def AgeDif():\n",
    "    for value in range(len(imd)):\n",
    "        ageL=imd.loc[value,['AgeP2']].values\n",
    "        ageW=imd.loc[value,['AgeP1']].values\n",
    "        dif=ageW-ageL\n",
    "        imd.loc[value,'AgeDif']=dif\n",
    "        "
   ]
  },
  {
   "cell_type": "code",
   "execution_count": 16,
   "metadata": {},
   "outputs": [],
   "source": [
    "AgeDif()"
   ]
  },
  {
   "cell_type": "code",
   "execution_count": 17,
   "metadata": {},
   "outputs": [],
   "source": [
    "from random import randint\n",
    "def swap_values(dataset):\n",
    "    for t in range(len(dataset)):\n",
    "        value = randint(0, 6500)\n",
    "        dataset.loc[value,['P1','P2']] = dataset.loc[value,['P2','P1']].values\n",
    "        dataset.loc[value,['P1Rank','P2Rank' ]] = dataset.loc[value,['P2Rank','P1Rank' ]].values\n",
    "        dataset.loc[value,['P1Pts','P2Pts'   ]] = dataset.loc[value,['P2Pts','P1Pts'   ]].values\n",
    "        dataset.loc[value,['P1sets','P2sets' ]] = dataset.loc[value,['P2sets','P1sets' ]].values\n",
    "        dataset.loc[value,['EloP1','EloP2' ]] = dataset.loc[value,['EloP2','EloP1' ]].values\n",
    "        dataset.loc[value,['HardRawP1','HardRawP2' ]] = dataset.loc[value,['HardRawP2','HardRawP1' ]].values\n",
    "        dataset.loc[value,['ClayRawP1','ClayRawP2' ]] = dataset.loc[value,['ClayRawP2','ClayRawP1' ]].values\n",
    "        dataset.loc[value,['GrassRawP1','GrassRawP2' ]] = dataset.loc[value,['GrassRawP2','GrassRawP1' ]].values\n",
    "        dataset.loc[value,['hEloP1','hEloP2' ]] = dataset.loc[value,['hEloP2','hEloP1' ]].values\n",
    "        dataset.loc[value,['cEloP1','cEloP2' ]] = dataset.loc[value,['cEloP2','cEloP1' ]].values\n",
    "        dataset.loc[value,['gEloP1','gEloP2' ]] = dataset.loc[value,['gEloP2','gEloP1' ]].values\n",
    "        dataset.loc[value,['AgeP1','AgeP2' ]] = dataset.loc[value,['AgeP2','AgeP1' ]].values\n",
    "        dataset.loc[value,['Vittoria']]=1\n",
    "    "
   ]
  },
  {
   "cell_type": "code",
   "execution_count": 18,
   "metadata": {},
   "outputs": [],
   "source": [
    "swap_values(imd)"
   ]
  },
  {
   "cell_type": "code",
   "execution_count": 19,
   "metadata": {},
   "outputs": [
    {
     "data": {
      "text/html": [
       "<div>\n",
       "<style scoped>\n",
       "    .dataframe tbody tr th:only-of-type {\n",
       "        vertical-align: middle;\n",
       "    }\n",
       "\n",
       "    .dataframe tbody tr th {\n",
       "        vertical-align: top;\n",
       "    }\n",
       "\n",
       "    .dataframe thead th {\n",
       "        text-align: right;\n",
       "    }\n",
       "</style>\n",
       "<table border=\"1\" class=\"dataframe\">\n",
       "  <thead>\n",
       "    <tr style=\"text-align: right;\">\n",
       "      <th></th>\n",
       "      <th>ID</th>\n",
       "      <th>ATP</th>\n",
       "      <th>Tournament</th>\n",
       "      <th>Date</th>\n",
       "      <th>Series</th>\n",
       "      <th>Court</th>\n",
       "      <th>Surface</th>\n",
       "      <th>Round</th>\n",
       "      <th>Best of</th>\n",
       "      <th>P1</th>\n",
       "      <th>...</th>\n",
       "      <th>GrassRawP2</th>\n",
       "      <th>hEloP2</th>\n",
       "      <th>cEloP2</th>\n",
       "      <th>gEloP2</th>\n",
       "      <th>BirthdateP2</th>\n",
       "      <th>BirthdateP1</th>\n",
       "      <th>AgeP2</th>\n",
       "      <th>AgeP1</th>\n",
       "      <th>Vittoria</th>\n",
       "      <th>AgeDif</th>\n",
       "    </tr>\n",
       "  </thead>\n",
       "  <tbody>\n",
       "    <tr>\n",
       "      <th>0</th>\n",
       "      <td>1</td>\n",
       "      <td>1</td>\n",
       "      <td>Brisbane International</td>\n",
       "      <td>2016-01-04</td>\n",
       "      <td>0.0</td>\n",
       "      <td>1.0</td>\n",
       "      <td>1</td>\n",
       "      <td>1st Round</td>\n",
       "      <td>3</td>\n",
       "      <td>Dimitrov G.</td>\n",
       "      <td>...</td>\n",
       "      <td>1618.8</td>\n",
       "      <td>1747.5</td>\n",
       "      <td>1727.8</td>\n",
       "      <td>1702.6</td>\n",
       "      <td>1984-12-27</td>\n",
       "      <td>1991-05-16</td>\n",
       "      <td>31.020486</td>\n",
       "      <td>24.638425</td>\n",
       "      <td>1</td>\n",
       "      <td>-6.382061</td>\n",
       "    </tr>\n",
       "    <tr>\n",
       "      <th>1</th>\n",
       "      <td>2</td>\n",
       "      <td>1</td>\n",
       "      <td>Brisbane International</td>\n",
       "      <td>2016-01-04</td>\n",
       "      <td>0.0</td>\n",
       "      <td>1.0</td>\n",
       "      <td>1</td>\n",
       "      <td>1st Round</td>\n",
       "      <td>3</td>\n",
       "      <td>Smith J.P.</td>\n",
       "      <td>...</td>\n",
       "      <td>1573.2</td>\n",
       "      <td>1553.2</td>\n",
       "      <td>1543.7</td>\n",
       "      <td>1587.2</td>\n",
       "      <td>1989-12-04</td>\n",
       "      <td>1992-08-17</td>\n",
       "      <td>23.381726</td>\n",
       "      <td>26.084040</td>\n",
       "      <td>1</td>\n",
       "      <td>-2.702314</td>\n",
       "    </tr>\n",
       "    <tr>\n",
       "      <th>2</th>\n",
       "      <td>3</td>\n",
       "      <td>1</td>\n",
       "      <td>Brisbane International</td>\n",
       "      <td>2016-01-04</td>\n",
       "      <td>0.0</td>\n",
       "      <td>1.0</td>\n",
       "      <td>1</td>\n",
       "      <td>1st Round</td>\n",
       "      <td>3</td>\n",
       "      <td>Kamke T.</td>\n",
       "      <td>...</td>\n",
       "      <td>1465.3</td>\n",
       "      <td>1424.6</td>\n",
       "      <td>1309.7</td>\n",
       "      <td>1462.2</td>\n",
       "      <td>1989-12-04</td>\n",
       "      <td>1986-05-21</td>\n",
       "      <td>26.084040</td>\n",
       "      <td>29.624154</td>\n",
       "      <td>0</td>\n",
       "      <td>3.540114</td>\n",
       "    </tr>\n",
       "    <tr>\n",
       "      <th>3</th>\n",
       "      <td>4</td>\n",
       "      <td>1</td>\n",
       "      <td>Brisbane International</td>\n",
       "      <td>2016-01-04</td>\n",
       "      <td>0.0</td>\n",
       "      <td>1.0</td>\n",
       "      <td>1</td>\n",
       "      <td>1st Round</td>\n",
       "      <td>3</td>\n",
       "      <td>Groth S.</td>\n",
       "      <td>...</td>\n",
       "      <td>1302.4</td>\n",
       "      <td>1748.7</td>\n",
       "      <td>1723.0</td>\n",
       "      <td>1549.5</td>\n",
       "      <td>1989-12-04</td>\n",
       "      <td>1996-05-19</td>\n",
       "      <td>19.628055</td>\n",
       "      <td>26.084040</td>\n",
       "      <td>1</td>\n",
       "      <td>-6.455985</td>\n",
       "    </tr>\n",
       "    <tr>\n",
       "      <th>4</th>\n",
       "      <td>5</td>\n",
       "      <td>1</td>\n",
       "      <td>Brisbane International</td>\n",
       "      <td>2016-01-05</td>\n",
       "      <td>0.0</td>\n",
       "      <td>1.0</td>\n",
       "      <td>1</td>\n",
       "      <td>1st Round</td>\n",
       "      <td>3</td>\n",
       "      <td>Goffin D.</td>\n",
       "      <td>...</td>\n",
       "      <td>1343.6</td>\n",
       "      <td>1489.6</td>\n",
       "      <td>1453.6</td>\n",
       "      <td>1407.9</td>\n",
       "      <td>1987-12-30</td>\n",
       "      <td>1990-12-07</td>\n",
       "      <td>28.017002</td>\n",
       "      <td>25.079228</td>\n",
       "      <td>1</td>\n",
       "      <td>-2.937774</td>\n",
       "    </tr>\n",
       "  </tbody>\n",
       "</table>\n",
       "<p>5 rows × 37 columns</p>\n",
       "</div>"
      ],
      "text/plain": [
       "   ID  ATP              Tournament       Date  Series  Court  Surface  \\\n",
       "0   1    1  Brisbane International 2016-01-04     0.0    1.0        1   \n",
       "1   2    1  Brisbane International 2016-01-04     0.0    1.0        1   \n",
       "2   3    1  Brisbane International 2016-01-04     0.0    1.0        1   \n",
       "3   4    1  Brisbane International 2016-01-04     0.0    1.0        1   \n",
       "4   5    1  Brisbane International 2016-01-05     0.0    1.0        1   \n",
       "\n",
       "       Round  Best of           P1  ...  GrassRawP2  hEloP2  cEloP2  gEloP2  \\\n",
       "0  1st Round        3  Dimitrov G.  ...      1618.8  1747.5  1727.8  1702.6   \n",
       "1  1st Round        3   Smith J.P.  ...      1573.2  1553.2  1543.7  1587.2   \n",
       "2  1st Round        3     Kamke T.  ...      1465.3  1424.6  1309.7  1462.2   \n",
       "3  1st Round        3     Groth S.  ...      1302.4  1748.7  1723.0  1549.5   \n",
       "4  1st Round        3    Goffin D.  ...      1343.6  1489.6  1453.6  1407.9   \n",
       "\n",
       "   BirthdateP2  BirthdateP1      AgeP2      AgeP1  Vittoria    AgeDif  \n",
       "0   1984-12-27   1991-05-16  31.020486  24.638425         1 -6.382061  \n",
       "1   1989-12-04   1992-08-17  23.381726  26.084040         1 -2.702314  \n",
       "2   1989-12-04   1986-05-21  26.084040  29.624154         0  3.540114  \n",
       "3   1989-12-04   1996-05-19  19.628055  26.084040         1 -6.455985  \n",
       "4   1987-12-30   1990-12-07  28.017002  25.079228         1 -2.937774  \n",
       "\n",
       "[5 rows x 37 columns]"
      ]
     },
     "execution_count": 19,
     "metadata": {},
     "output_type": "execute_result"
    }
   ],
   "source": [
    "imd.head()"
   ]
  },
  {
   "cell_type": "markdown",
   "metadata": {},
   "source": [
    "# Divido i dati in Train e Test e creo un dataset aux per poter filtrare i dati per creare il torneo."
   ]
  },
  {
   "cell_type": "code",
   "execution_count": 20,
   "metadata": {},
   "outputs": [],
   "source": [
    "#A questo punto creo 2 variabili che mi aiuterano a copiare i dati dal dataset originale in altri 2 dataset \n",
    "imd=imd.fillna(0)\n",
    "#FeaturesCols è il dataset che uso per test e train \n",
    "featuresCols = np.array(['Vittoria','Series','Court','Surface','EloP2','HardRawP2','ClayRawP2','GrassRawP2','hEloP2','cEloP2','gEloP2','AgeP2','EloP1','HardRawP1','ClayRawP1','GrassRawP1','hEloP1','cEloP1','gEloP1','AgeP1','AgeDif'])\n",
    "#FeaturesCols2 è il dataset che mi permette dopo il train di filtrare i dati in modo di poter rimanere solo con i dati di Australian Open 2019\n",
    "featuresCols2 = np.array(['Vittoria','Tournament','Date','Series','Court','Surface','EloP2','HardRawP2','ClayRawP2','GrassRawP2','hEloP2','cEloP2','gEloP2','AgeP2','EloP1','HardRawP1','ClayRawP1','GrassRawP1','hEloP1','cEloP1','gEloP1','AgeP1','AgeDif'])\n",
    "#FeaturesCols3 è il dataset che mi serve solo di creare il grafico con l'importanza di ogni features\n",
    "featuresCols3 = np.array(['Series','Court','Surface','EloP2','HardRawP2','ClayRawP2','GrassRawP2','hEloP2','cEloP2','gEloP2','AgeP2','EloP1','HardRawP1','ClayRawP1','GrassRawP1','hEloP1','cEloP1','gEloP1','AgeP1','AgeDif'])\n",
    "#Creo il primo dataset usato per il Train e Test\n",
    "TrainData = imd.loc[:,featuresCols].copy()\n",
    "#Creo il dataset che mi servirà per filtrare i dati dopo\n",
    "TrainData2 = imd.loc[:,featuresCols2].copy()\n",
    "#Creo il datase che mi servirà per creare il plot con l'importanza delle features\n",
    "TrainData3 = imd.loc[:,featuresCols3].copy()\n",
    "#A questo punto trasformo il mio dataset in una tabella con i dati sotto forma di float\n",
    "dataset = TrainData.astype(float).values\n",
    "\n",
    "#Divido i dati in test e train\n",
    "X = dataset[:,1:]\n",
    "y= dataset[:,0]\n",
    "X_train, X_test, y_train, y_test = train_test_split(X, y, test_size=0.3, random_state=42)"
   ]
  },
  {
   "cell_type": "markdown",
   "metadata": {},
   "source": [
    "La funzione fotto è una funzione che ho trovato su internet al link : https://towardsdatascience.com/hyperparameter-tuning-the-random-forest-in-python-using-scikit-learn-28d2aa77dd74 che mi permette di trovare in maniera automatica i hyperparametri dando il mio dataset diviso in train e test. (Attenzione: può durare fino ad 1h e usa la CPU 100%)"
   ]
  },
  {
   "cell_type": "code",
   "execution_count": 142,
   "metadata": {},
   "outputs": [],
   "source": [
    "from sklearn.ensemble import RandomForestRegressor\n",
    "from sklearn.model_selection import RandomizedSearchCV\n",
    "def hyperparameter():\n",
    "    #Numero di alberi nella foresta\n",
    "    n_estimators = [int(x) for x in np.linspace(start = 200, stop = 2000, num = 10)]\n",
    "    # Numero di features per ogni split\n",
    "    max_features = ['auto', 'sqrt']\n",
    "    # Il numero massimo di livelli nel albero\n",
    "    max_depth = [int(x) for x in np.linspace(10, 110, num = 11)]\n",
    "    max_depth.append(None)\n",
    "    # Numero minimo di samples necessarie per lo split di un nodo\n",
    "    min_samples_split = [2, 5, 10]\n",
    "    # Numero minimo di samples necessarie per foglia \n",
    "    min_samples_leaf = [1, 2, 4]\n",
    "    #Metodo di selezione dei samples per il training di ogni albero\n",
    "    bootstrap = [True, False]\n",
    "    # Viene creata una random grid\n",
    "    random_grid = {'n_estimators': n_estimators,\n",
    "                   'max_features': max_features,\n",
    "                   'max_depth': max_depth,\n",
    "                   'min_samples_split': min_samples_split,\n",
    "                   'min_samples_leaf': min_samples_leaf,\n",
    "                   'bootstrap': bootstrap}\n",
    "    # Usa la random grid per cercare i miglior hiperparametri\n",
    "    # Prima crea la base del motello per fare il tunning\n",
    "    rf = RandomForestRegressor()\n",
    "     \n",
    "    # Random search dei parametri usando 3 fold cross validation \n",
    "    # cerca tra 100 combinazioni diverse usando la CPU 100%\n",
    "    RanFo_algo = RandomizedSearchCV(estimator = rf, param_distributions = random_grid, n_iter = 100, cv = 3, verbose=2, random_state=42, n_jobs = -1)\n",
    "    \n",
    "    \n",
    "    RanFo_algo.fit(X_train, y_train)\n",
    "    return RanFo_algo.best_params_"
   ]
  },
  {
   "cell_type": "code",
   "execution_count": 143,
   "metadata": {},
   "outputs": [
    {
     "name": "stdout",
     "output_type": "stream",
     "text": [
      "Fitting 3 folds for each of 100 candidates, totalling 300 fits\n"
     ]
    },
    {
     "name": "stderr",
     "output_type": "stream",
     "text": [
      "[Parallel(n_jobs=-1)]: Using backend LokyBackend with 8 concurrent workers.\n",
      "[Parallel(n_jobs=-1)]: Done  25 tasks      | elapsed:  4.2min\n",
      "[Parallel(n_jobs=-1)]: Done 146 tasks      | elapsed: 17.6min\n",
      "[Parallel(n_jobs=-1)]: Done 300 out of 300 | elapsed: 41.4min finished\n"
     ]
    },
    {
     "data": {
      "text/plain": [
       "{'n_estimators': 2000,\n",
       " 'min_samples_split': 5,\n",
       " 'min_samples_leaf': 1,\n",
       " 'max_features': 'sqrt',\n",
       " 'max_depth': 100,\n",
       " 'bootstrap': True}"
      ]
     },
     "execution_count": 143,
     "metadata": {},
     "output_type": "execute_result"
    }
   ],
   "source": [
    "hyperparameter()"
   ]
  },
  {
   "cell_type": "markdown",
   "metadata": {},
   "source": [
    "# Random Forest "
   ]
  },
  {
   "cell_type": "code",
   "execution_count": 21,
   "metadata": {},
   "outputs": [
    {
     "name": "stdout",
     "output_type": "stream",
     "text": [
      "0.7998517420311342\n"
     ]
    }
   ],
   "source": [
    "RanFo_algo=RandomForestClassifier(n_estimators=2000, min_samples_split=5,min_samples_leaf= 1, max_features=20,max_depth=100,bootstrap=True)\n",
    "RanFo_algo.fit(X_train,y_train)\n",
    "ScoreAccurateza = accuracy_score(y_true=y_test, y_pred=RanFo_algo.predict(X_test))\n",
    "print(ScoreAccurateza)"
   ]
  },
  {
   "cell_type": "markdown",
   "metadata": {},
   "source": [
    "Nei prossimi 4 blocchi di codice vengono creati e mostrati dei grafici per far vedere le prestazioni usando  random forest. "
   ]
  },
  {
   "cell_type": "code",
   "execution_count": 22,
   "metadata": {},
   "outputs": [],
   "source": [
    "from sklearn import linear_model\n",
    "from sklearn.model_selection import train_test_split\n",
    "from sklearn import tree\n",
    "from sklearn.metrics import mean_squared_error\n",
    "reg = linear_model.LinearRegression()\n",
    "reg_train_err = mean_squared_error(y_true=y_train, y_pred=RanFo_algo.predict(X_train))\n",
    "reg_test_err = mean_squared_error(y_true=y_test, y_pred=RanFo_algo.predict(X_test))\n",
    "\n",
    "errors = []\n",
    "\n",
    "for max_leaves in range(2,50):\n",
    "   \n",
    "    dt = tree.DecisionTreeRegressor(max_leaf_nodes=max_leaves)\n",
    "    dt.fit(X_train,y_train)\n",
    "\n",
    "    \n",
    "    train_acc = mean_squared_error(y_true=y_train, y_pred=dt.predict(X_train))\n",
    "    test_acc = mean_squared_error(y_true=y_test, y_pred=dt.predict(X_test))\n",
    "\n",
    "    errors += [ [max_leaves, train_acc, test_acc] ]\n",
    "\n",
    "errors = np.array(errors)"
   ]
  },
  {
   "cell_type": "code",
   "execution_count": 23,
   "metadata": {},
   "outputs": [
    {
     "data": {
      "text/plain": [
       "<matplotlib.legend.Legend at 0x1cf483402b0>"
      ]
     },
     "execution_count": 23,
     "metadata": {},
     "output_type": "execute_result"
    },
    {
     "data": {
      "image/png": "[encoded data removed]",
      "text/plain": [
       "<Figure size 432x288 with 1 Axes>"
      ]
     },
     "metadata": {
      "needs_background": "light"
     },
     "output_type": "display_data"
    }
   ],
   "source": [
    "fig, ax = plt.subplots()\n",
    "ax.plot(errors[:,0], errors[:,1], \"x:\", label=\"Train\")\n",
    "ax.plot(errors[:,0], errors[:,2], \"o-\", label=\"Test\")\n",
    "ax.set_ylabel(\"MSE\")\n",
    "ax.set_xlabel(\"Number of Leaves\")\n",
    "ax.grid()\n",
    "ax.legend()"
   ]
  },
  {
   "cell_type": "code",
   "execution_count": 24,
   "metadata": {},
   "outputs": [
    {
     "data": {
      "text/plain": [
       "<matplotlib.legend.Legend at 0x1cf483f7ef0>"
      ]
     },
     "execution_count": 24,
     "metadata": {},
     "output_type": "execute_result"
    },
    {
     "data": {
      "image/png": "[encoded data removed]",
      "text/plain": [
       "<Figure size 432x288 with 1 Axes>"
      ]
     },
     "metadata": {
      "needs_background": "light"
     },
     "output_type": "display_data"
    }
   ],
   "source": [
    "fig, ax = plt.subplots()\n",
    "ax.plot(errors[:,0], errors[:,1], \"x:\", label=\"DT Train\")\n",
    "ax.plot(errors[:,0], errors[:,2], \"o-\", label=\"DT Test\")\n",
    "ax.axhline(y=reg_train_err, c='red', ls=\"--\", label=\"Reg Train\")\n",
    "ax.axhline(y=reg_test_err, c='green', ls=\"--\", label=\"Reg Test\")\n",
    "ax.set_ylabel(\"MSE\")\n",
    "ax.grid()\n",
    "ax.legend()"
   ]
  },
  {
   "cell_type": "code",
   "execution_count": 477,
   "metadata": {},
   "outputs": [
    {
     "name": "stdout",
     "output_type": "stream",
     "text": [
      "[0.12628457 0.04694743 0.07933714]\n"
     ]
    },
    {
     "data": {
      "image/png": "[encoded data removed]",
      "text/plain": [
       "<Figure size 432x432 with 1 Axes>"
      ]
     },
     "metadata": {
      "needs_background": "light"
     },
     "output_type": "display_data"
    }
   ],
   "source": [
    "from sklearn.utils import resample\n",
    "from sklearn.ensemble import RandomForestClassifier\n",
    "\n",
    "N_TESTS = 20\n",
    "\n",
    "stats = np.array([])\n",
    "\n",
    "boosts = range(1,51)\n",
    "for l in boosts:\n",
    "    y_preds = np.array([])\n",
    "    \n",
    "    for i in range(N_TESTS):\n",
    "        Xs, ys = resample(X,y, n_samples=int(0.67*len(y)) )\n",
    "\n",
    "        rf = RandomForestClassifier(n_estimators=l)\n",
    "        rf.fit(Xs,ys)\n",
    "        \n",
    "        y_pred = rf.predict(X)\n",
    "        y_preds = np.column_stack( [y_preds, y_pred] ) if y_preds.size else y_pred\n",
    "\n",
    "    dt_bias     = (y-np.mean(y_preds,axis=1))**2\n",
    "    dt_variance = np.var(y_preds,axis=1)\n",
    "    dt_error    = (y_preds - y.reshape(-1,1))**2\n",
    "\n",
    "    \n",
    "    run_stats = np.array([dt_error.mean(), dt_bias.mean(), dt_variance.mean()])\n",
    "    \n",
    "    stats = np.column_stack( [stats, run_stats]) if stats.size else run_stats\n",
    "    \n",
    "fig, ax = plt.subplots(figsize=(6,6))\n",
    "\n",
    "ax.plot(boosts,stats[0,:], 'o:', label='Error')\n",
    "ax.plot(boosts,stats[1,:], 'o:', label='Bias$^2$')\n",
    "ax.plot(boosts,stats[2,:], 'o:', label='Variance')\n",
    "ax.set_xlabel('Number of Trees')\n",
    "ax.grid()\n",
    "ax.legend()\n",
    "\n",
    "print (stats[:,-1])"
   ]
  },
  {
   "cell_type": "markdown",
   "metadata": {},
   "source": [
    "# Il grafico sotto mi aiuta a vedere meglio l'importanza di ogni feature"
   ]
  },
  {
   "cell_type": "code",
   "execution_count": 25,
   "metadata": {},
   "outputs": [
    {
     "data": {
      "text/plain": [
       "<matplotlib.axes._subplots.AxesSubplot at 0x1cf48dc5940>"
      ]
     },
     "execution_count": 25,
     "metadata": {},
     "output_type": "execute_result"
    },
    {
     "data": {
      "image/png": "[encoded data removed]",
      "text/plain": [
       "<Figure size 432x288 with 1 Axes>"
      ]
     },
     "metadata": {
      "needs_background": "light"
     },
     "output_type": "display_data"
    }
   ],
   "source": [
    "feat_importances = pd.Series(RanFo_algo.feature_importances_, index=TrainData3.columns)\n",
    "feat_importances.nlargest(20).plot(kind='barh')"
   ]
  },
  {
   "cell_type": "markdown",
   "metadata": {},
   "source": [
    "# KNN"
   ]
  },
  {
   "cell_type": "code",
   "execution_count": 26,
   "metadata": {},
   "outputs": [
    {
     "name": "stdout",
     "output_type": "stream",
     "text": [
      "k: 1  | Accuracy: 0.7270276342394968\n",
      "k: 2  | Accuracy: 0.72815097730847\n",
      "k: 3  | Accuracy: 0.7294989889912379\n",
      "k: 4  | Accuracy: 0.7369130532464615\n",
      "k: 5  | Accuracy: 0.7353403729498988\n",
      "k: 6  | Accuracy: 0.7382610649292294\n",
      "k: 7  | Accuracy: 0.7375870590878454\n",
      "k: 8  | Accuracy: 0.7396090766119973\n",
      "k: 9  | Accuracy: 0.7434284430465063\n"
     ]
    }
   ],
   "source": [
    "from sklearn.preprocessing import StandardScaler\n",
    "\n",
    "from sklearn import neighbors\n",
    "from sklearn.metrics import accuracy_score, confusion_matrix, classification_report\n",
    "from sklearn.model_selection import train_test_split\n",
    "\n",
    "\n",
    "X_train, X_test, y_train, y_test = train_test_split(X, y, test_size=0.33, random_state=42)\n",
    "\n",
    "\n",
    "scaler = StandardScaler()\n",
    "scaler.fit(X_train)\n",
    "\n",
    "for k in range(1,10):\n",
    "    \n",
    "\n",
    "    kNN = neighbors.KNeighborsClassifier(n_neighbors=k)\n",
    "    kNN.fit(scaler.transform(X_train),y_train)\n",
    "\n",
    "    y_pred = kNN.predict( scaler.transform(X_test) )\n",
    "\n",
    "    # compute Accuracy\n",
    "    print (\"k:\", k,\" | Accuracy:\", accuracy_score(y_true=y_test, y_pred=y_pred) )   \n"
   ]
  },
  {
   "cell_type": "markdown",
   "metadata": {},
   "source": [
    "# Torneo"
   ]
  },
  {
   "cell_type": "code",
   "execution_count": 27,
   "metadata": {},
   "outputs": [],
   "source": [
    "def dataset_processing():\n",
    "    #Seleziono i dati dei 2019\n",
    "    dataSelection = lambda x: x.year == 2019\n",
    "    #In base alla colonna Date prendo solo i dati corrispondenti a 2019\n",
    "    testInd = TrainData2['Date'].apply(dataSelection)\n",
    "    #Copio i dati dentro un nuovo DF\n",
    "    dataFrame = TrainData2.loc[testInd, featuresCols2].copy()\n",
    "    #Prendo gli index delle righe che non appartengono ad Australian Open\n",
    "    indexNames = dataFrame[(dataFrame['Tournament'] != 'Australian Open')].index\n",
    "    #Droppo tutte le righe che non hanno come Tournament Australian Open\n",
    "    dataFrame.drop(indexNames, inplace = True)\n",
    "    #Metto apposto gli indici cosi ho tutto in ordine\n",
    "    dataFrame = dataFrame.reset_index(drop=True)\n",
    "    #Adesso che non mi servono più le colonne che riguardano il Tournament e Date visto che ho proprio il dataset che mi serve\n",
    "    dataFrame = dataFrame.drop('Tournament', axis = 1)\n",
    "    dataFrame = dataFrame.drop('Date', axis = 1)\n",
    "    \n",
    "    return(dataFrame)"
   ]
  },
  {
   "cell_type": "code",
   "execution_count": 28,
   "metadata": {},
   "outputs": [],
   "source": [
    "dataset2=dataset_processing()"
   ]
  },
  {
   "cell_type": "code",
   "execution_count": 29,
   "metadata": {},
   "outputs": [],
   "source": [
    "#FUNZIONE CHE MI RITORNA UN VETTORE CON LE PREDIZIONI PER QUALLA ROUND \n",
    "def print_predictions(dataset):\n",
    "    #values contiene tutte le partite sotto forma di [[]]\n",
    "    values=dataset[:]\n",
    "    #creo un vettore in cui salvo le predizioni \n",
    "    vetttore_predizioni =list()\n",
    "    for i in range(len(values)):\n",
    "        #Prendo riga per riga e faccio la predizioni di ogni partita visto che ogni riga = partita\n",
    "        righe = values[i]\n",
    "        #Faccio la predizione per ogni riga\n",
    "        risultato = RanFo_algo.predict([righe])\n",
    "        #Salvo la predizione dentro il vettore, siccome la predizione ritorna sottoforma di vettore io salvo solo il valore contenuto in ogni vettore\n",
    "        vetttore_predizioni.append(risultato[0])\n",
    "    return vetttore_predizioni"
   ]
  },
  {
   "cell_type": "code",
   "execution_count": 30,
   "metadata": {},
   "outputs": [],
   "source": [
    "#FUNZIONE CHE MI RITORNA IL PLAYER VINCITORE DI QUELLA PARTITA\n",
    "def fun_retu(player,position,dataset):\n",
    "    if(player==0):\n",
    "        return dataset.P1[position]\n",
    "    if(player==1):\n",
    "        return dataset.P2[position]"
   ]
  },
  {
   "cell_type": "code",
   "execution_count": 31,
   "metadata": {},
   "outputs": [],
   "source": [
    "#FUNZIONE CHE MI RITORNA UNA PARTE DEL DATASET IN INPUT PER POTER CREARE UN ALTRO DATASET DA CUI PARTIRE LA PROSSIMA ROUND PER FARE LE PREDIZIONI\n",
    "def ret_data_players(player,position,match):\n",
    "    #se il primo player ha vinto prendo le sue features e le salvo nel prossimo documento \n",
    "    if(player==1):\n",
    "        a=match[[position]]\n",
    "        b=a[0]\n",
    "        values=b[3:11]\n",
    "        return values\n",
    "    #se il secondo player ha vinto prendo le sue features e le salvo nel prossimo documento \n",
    "    if(player==0):\n",
    "        a=match[[position]]\n",
    "        b=a[0]\n",
    "        values=b[11:19]\n",
    "        return values"
   ]
  },
  {
   "cell_type": "code",
   "execution_count": 32,
   "metadata": {},
   "outputs": [],
   "source": [
    "#FUNZIONE CHE MI PERMETTE DI CREARE UN DATASET CON SOLO IL PLAYER SENZA LE FEATURES PER IL PROSSIMO MATCH\n",
    "def net_dataset(vec,dataset):\n",
    "    i=0\n",
    "    l=list()\n",
    "    #creo il nuovo dataset in cui salvo i vincitori\n",
    "    df = pd.DataFrame(columns = ['ID','Player1', 'Player2']) \n",
    "    while i < len(vec):\n",
    "        pass\n",
    "        if (i<len(vec)):\n",
    "            #Prendo semper due valori cioè due partite e combino i vincitori per creare la prossima partita\n",
    "            player1=vec[i]\n",
    "            player2=vec[i+1]\n",
    "            if i+1==129 : break\n",
    "            #Prendo i vincitori delle due partite gli salvo nelle variabili a e b e poi inizio a fare append nel prossimo dataset\n",
    "            a=fun_retu(player1,i,imd4)\n",
    "            b=fun_retu(player2,i+1,imd4)\n",
    "            df = df.append({'ID':i,'Player1': a,'Player2' : b}, ignore_index=True)\n",
    "        i=i+2\n",
    "    return (df)"
   ]
  },
  {
   "cell_type": "code",
   "execution_count": 33,
   "metadata": {},
   "outputs": [],
   "source": [
    "#QUESTA FUNZIONE MI PERMETTE DI CREARE IL DATASET CON LE FEATURES DEI PLAYER VINCITORI, IL DATASET CHE CREO ADESSO MI SERVIRA PER IL PROSSIMO MATCH PER FARE LE PREDIZIONI\n",
    "def net_dataset_player(vec,match):\n",
    "    i=0\n",
    "    l=list()\n",
    "    #Creo il nuovo dataset\n",
    "    new_players = pd.DataFrame(columns = (['Vittoria','Series','Court','Surface','EloP2','HardRawP2','ClayRawP2','GrassRawP2','hEloP2','cEloP2','gEloP2','AgeP2','EloP1','HardRawP1','ClayRawP1','GrassRawP1','hEloP1','cEloP1','gEloP1','AgeP1','AgeDif']))\n",
    "    while i < len(vec):\n",
    "        if (i+1<len(vec)):\n",
    "            #Prendo le predizioni\n",
    "            player1=vec[i]\n",
    "            player2=vec[i+1]\n",
    "          \n",
    "            #Nelle prossime tre righe prendo sempre le features tipo Series Court Surface e le aggiungo al dataset nuovo, ho scelto di fare cosi perchè cosi posso prendere i dati del player 1 e 2 senza problemi(più spiegazioni nella documentazione)\n",
    "            Features=match[[i]]\n",
    "            RigaPerRigaFeatures=Features[0]\n",
    "            SoloLeFeaturesUgualiPerTutti=RigaPerRigaFeatures[0:20]\n",
    "            \n",
    "            #Prendo le feature dei 2 vincitori delle due partite e le salvo nelle variabili a e b e poi inizio a fare append nel prossimo dataset\n",
    "            a=ret_data_players(player1,i,match)\n",
    "            b=ret_data_players(player2,i+1,match)\n",
    "          \n",
    "            new_players=new_players.append({'Series':SoloLeFeaturesUgualiPerTutti[0],'Court':SoloLeFeaturesUgualiPerTutti[1],'Surface':SoloLeFeaturesUgualiPerTutti[2],'EloP2':a[0],'HardRawP2':a[1],'ClayRawP2':a[2],'GrassRawP2':a[3],'hEloP2':a[4],'cEloP2':a[5],'gEloP2':a[6],'AgeP2':a[7],'EloP1':b[0],'HardRawP1':b[1],'ClayRawP1':b[2],'GrassRawP1':b[3],'hEloP1':b[4],'cEloP1':b[5],'gEloP1':b[6],'AgeP1':b[7],'AgeDif':SoloLeFeaturesUgualiPerTutti[19]},ignore_index=True)\n",
    "            \n",
    "        i=i+2\n",
    "    return new_players"
   ]
  },
  {
   "cell_type": "code",
   "execution_count": 34,
   "metadata": {},
   "outputs": [],
   "source": [
    "#QUESTA FUNZIONE MI PERMETTE DI VEDERE IL VINCITORE QUANDO MANCA UNA PARTITA E CI SONO SOLO 2 GIOCATORI\n",
    "def TellMeTheWinner(DatasetPlayers,DatasetPlayer_selection):\n",
    "    #Se la lunghezza del dataset è 1 allora manca una sola partita\n",
    "    lenghtDataset=len(DatasetPlayers)\n",
    "    if(lenghtDataset==1):\n",
    "        \n",
    "        #prendo i dati del l'ultima partia per fare la predizione\n",
    "        Winner = DatasetPlayers.astype(float).values\n",
    "        WinnerT = Winner[:,1:]\n",
    "        #Mi predo la predizione \n",
    "        LastPredictionForTheWinner=print_predictions(WinnerT)\n",
    "        #Tiro fuori il valore della predizione perchè è contenuto dentro un vettore e a me serve il valore \n",
    "        victory=LastPredictionForTheWinner[0]\n",
    "        #Accedo al dataset dove trovo i player e mi prendo il Winner\n",
    "        if(victory==1):\n",
    "            WinnerPlayer=DatasetPlayer_selection.Player1[0]\n",
    "        if(victory==0):\n",
    "             WinnerPlayer=DatasetPlayer_selection.Player2[0]\n",
    "    return (WinnerPlayer)"
   ]
  },
  {
   "cell_type": "markdown",
   "metadata": {},
   "source": [
    "# Inizio torneo"
   ]
  },
  {
   "cell_type": "markdown",
   "metadata": {},
   "source": [
    "# FirstRound"
   ]
  },
  {
   "cell_type": "code",
   "execution_count": 35,
   "metadata": {},
   "outputs": [],
   "source": [
    "#A questo punto mi prendo prorpio le collone che sono state usate per fare il test e train cosi posso fare predizioni su ogni partita giocata\n",
    "FirstRound = dataset2.astype(float).values\n",
    "FirstRoundData = FirstRound[:,1:]\n",
    "\n",
    "\n",
    "#Creo le predizioni\n",
    "VettorePredizioniFirstRound=print_predictions(FirstRoundData)\n",
    "\n",
    "\n",
    "#Creo il vettore dei players per il SecondRound\n",
    "WinnerPlayersFor2Round=net_dataset(VettorePredizioniFirstRound,imd4)\n",
    "\n",
    "\n",
    "#Creo il vettore delle features per il SecondRound \n",
    "WinnerPlayersFeature2Round=net_dataset_player(VettorePredizioniFirstRound,FirstRoundData)"
   ]
  },
  {
   "cell_type": "markdown",
   "metadata": {},
   "source": [
    "# SecondRound"
   ]
  },
  {
   "cell_type": "code",
   "execution_count": 36,
   "metadata": {},
   "outputs": [],
   "source": [
    "#A questo punto mi prendo prorpio le collone che sono state usate per fare il test e train cosi posso fare predizioni su ogni partita giocata\n",
    "SecondRound = WinnerPlayersFeature2Round.astype(float).values\n",
    "SecondRoundData = SecondRound[:,1:]\n",
    "\n",
    "\n",
    "#Creo le predizioni\n",
    "VettorePredizioniSecondRound=print_predictions(SecondRoundData)\n",
    "\n",
    "\n",
    "#Creo il vettore dei players per il SecondRound\n",
    "WinnerPlayersFor3Round=net_dataset(VettorePredizioniSecondRound,WinnerPlayersFor2Round)\n",
    "\n",
    "\n",
    "#Creo il vettore delle features per il SecondRound \n",
    "WinnerPlayersFeatureFor3Round=net_dataset_player(VettorePredizioniSecondRound,SecondRoundData)"
   ]
  },
  {
   "cell_type": "markdown",
   "metadata": {},
   "source": [
    "# ThirdRound"
   ]
  },
  {
   "cell_type": "code",
   "execution_count": 37,
   "metadata": {},
   "outputs": [],
   "source": [
    "#A questo punto mi prendo prorpio le collone che sono state usate per fare il test e train cosi posso fare predizioni su ogni partita giocata\n",
    "ThirdRound = WinnerPlayersFeatureFor3Round.astype(float).values\n",
    "ThirdRoundData = ThirdRound[:,1:]\n",
    "\n",
    "\n",
    "#Creo le predizioni\n",
    "VettorePredizioniThirdRound=print_predictions(ThirdRoundData)\n",
    "\n",
    "\n",
    "#Creo il vettore dei players per il SecondRound\n",
    "WinnerPlayersFor4Round=net_dataset(VettorePredizioniThirdRound,WinnerPlayersFor3Round)\n",
    "\n",
    "\n",
    "#Creo il vettore delle features per il SecondRound \n",
    "WinnerPlayersFeatureFor4Round=net_dataset_player(VettorePredizioniThirdRound,ThirdRoundData)"
   ]
  },
  {
   "cell_type": "markdown",
   "metadata": {},
   "source": [
    "# ForthRound"
   ]
  },
  {
   "cell_type": "code",
   "execution_count": 38,
   "metadata": {},
   "outputs": [],
   "source": [
    "#A questo punto mi prendo prorpio le collone che sono state usate per fare il test e train cosi posso fare predizioni su ogni partita giocata\n",
    "ForthRound = WinnerPlayersFeatureFor4Round.astype(float).values\n",
    "ForthRoundData = ForthRound[:,1:]\n",
    "\n",
    "\n",
    "#Creo le predizioni\n",
    "VettorePredizioniForthRound=print_predictions(ForthRoundData)\n",
    "\n",
    "\n",
    "#Creo il vettore dei players per il SecondRound\n",
    "WinnerPlayersForQuarterfinals=net_dataset(VettorePredizioniForthRound,WinnerPlayersFor4Round)\n",
    "\n",
    "\n",
    "#Creo il vettore delle features per il SecondRound \n",
    "WinnerPlayersFeatureForQuarterfinals=net_dataset_player(VettorePredizioniForthRound,ForthRoundData)"
   ]
  },
  {
   "cell_type": "markdown",
   "metadata": {},
   "source": [
    "# Quarterfinals"
   ]
  },
  {
   "cell_type": "code",
   "execution_count": 39,
   "metadata": {},
   "outputs": [],
   "source": [
    "#A questo punto mi prendo prorpio le collone che sono state usate per fare il test e train cosi posso fare predizioni su ogni partita giocata\n",
    "Quarterfinals = WinnerPlayersFeatureForQuarterfinals.astype(float).values\n",
    "QuarterfinalsData = Quarterfinals[:,1:]\n",
    "\n",
    "\n",
    "#Creo le predizioni\n",
    "VettorePredizioniQuarterfinals=print_predictions(QuarterfinalsData)\n",
    "\n",
    "\n",
    "#Creo il vettore dei players per il SecondRound\n",
    "WinnerPlayersForSemifinals=net_dataset(VettorePredizioniQuarterfinals,WinnerPlayersForQuarterfinals)\n",
    "\n",
    "\n",
    "#Creo il vettore delle features per il SecondRound \n",
    "WinnerPlayersFeatureForSemifinals=net_dataset_player(VettorePredizioniQuarterfinals,QuarterfinalsData)"
   ]
  },
  {
   "cell_type": "markdown",
   "metadata": {},
   "source": [
    "# Semifinals"
   ]
  },
  {
   "cell_type": "code",
   "execution_count": 40,
   "metadata": {},
   "outputs": [],
   "source": [
    "#A questo punto mi prendo prorpio le collone che sono state usate per fare il test e train cosi posso fare predizioni su ogni partita giocata\n",
    "Semifinals = WinnerPlayersFeatureForSemifinals.astype(float).values\n",
    "SemifinalsData = Semifinals[:,1:]\n",
    "\n",
    "\n",
    "#Creo le predizioni\n",
    "VettorePredizioniSemifinals=print_predictions(SemifinalsData)\n",
    "\n",
    "\n",
    "#Creo il vettore dei players per il SecondRound\n",
    "WinnerPlayersForFinal=net_dataset(VettorePredizioniSemifinals,WinnerPlayersForSemifinals)\n",
    "\n",
    "\n",
    "#Creo il vettore delle features per il SecondRound WinnerPlayersForSemifinals\n",
    "WinnerPlayersFeatureForFinal=net_dataset_player(VettorePredizioniSemifinals,SemifinalsData)"
   ]
  },
  {
   "cell_type": "markdown",
   "metadata": {},
   "source": [
    "# Finals"
   ]
  },
  {
   "cell_type": "code",
   "execution_count": 41,
   "metadata": {},
   "outputs": [],
   "source": [
    "#A questo punto mi prendo prorpio le collone che sono state usate per fare il test e train cosi posso fare predizioni su ogni partita giocata\n",
    "Finals = WinnerPlayersFeatureForFinal.astype(float).values\n",
    "FinalsData = Finals[:,1:]\n",
    "\n",
    "\n",
    "#Creo le predizioni\n",
    "VettorePredizioniFinals=print_predictions(FinalsData)\n",
    "\n",
    "\n",
    "#Creo il vettore dei players per il SecondRound\n",
    "WinnerPlayersForWinner=net_dataset(VettorePredizioniFinals,WinnerPlayersForFinal)\n",
    "\n",
    "\n",
    "#Creo il vettore delle features per il SecondRound WinnerPlayersForSemifinals\n",
    "WinnerPlayersFeatureForWinner=net_dataset_player(VettorePredizioniFinals,FinalsData)"
   ]
  },
  {
   "cell_type": "code",
   "execution_count": 42,
   "metadata": {},
   "outputs": [],
   "source": [
    "TheWinner=TellMeTheWinner(WinnerPlayersFeatureForWinner,WinnerPlayersForWinner)"
   ]
  },
  {
   "cell_type": "code",
   "execution_count": 43,
   "metadata": {},
   "outputs": [
    {
     "name": "stdout",
     "output_type": "stream",
     "text": [
      "And the winner is :  Mannarino A.\n"
     ]
    }
   ],
   "source": [
    "print('And the winner is : ',TheWinner)"
   ]
  }
 ],
 "metadata": {
  "kernelspec": {
   "display_name": "Python 3",
   "language": "python",
   "name": "python3"
  },
  "language_info": {
   "codemirror_mode": {
    "name": "ipython",
    "version": 3
   },
   "file_extension": ".py",
   "mimetype": "text/x-python",
   "name": "python",
   "nbconvert_exporter": "python",
   "pygments_lexer": "ipython3",
   "version": "3.7.3"
  }
 },
 "nbformat": 4,
 "nbformat_minor": 2
}
