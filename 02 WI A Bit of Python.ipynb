{
 "cells": [
  {
   "cell_type": "markdown",
   "metadata": {},
   "source": [
    "# Web Intelligence\n",
    "## Python crash course\n",
    "\n",
    "#### Prof. Claudio Lucchese"
   ]
  },
  {
   "cell_type": "markdown",
   "metadata": {},
   "source": [
    "## Books\n",
    "\n",
    " - Learning Python. O'Reilly. Mark Lutz.\n",
    " \n",
    " - advanced notes: https://github.com/satwikkansal/wtfpython\n",
    " \n",
    "## How can I run my Python code ?\n",
    "\n",
    "In this course we use **Jupyter notebooks** as provided by **Anaconda for Python 3.0**\n",
    " - see instructions: https://www.anaconda.com/distribution/\n",
    " - be careful! python 3 and not python 2.7\n",
    "\n",
    "Jupyter notebooks allow \n",
    " - to write slides like this.\n",
    " - to write complex documents interleaving text with programs\n",
    " - it is basically an interactive interpreter accessed via browser\n",
    " \n",
    " \n",
    "Additional tools:\n",
    " - PyCharm by JetBrains https://www.jetbrains.com/pycharm/\n",
    "\n",
    "## Your best friends in learning Python\n",
    "\n",
    "1. The Python website:\n",
    "    - plenty of links to books and tutorials!\n",
    "        - e.g., https://docs.python.org/3/tutorial/\n",
    "0. The official Python documentation:\n",
    "    - https://docs.python.org/3/library/index.html\n",
    "0. Google & StackOverflow:\n",
    "    - try googling for `TypeError: can't multiply sequence by non-int of type 'float'`\n",
    "0. Python Tutor\n",
    "    - visualizes the execution of python code\n",
    "    - http://pythontutor.com/\n",
    "\n",
    "## Who uses python\n",
    "\n",
    " - The popular *YouTube* video sharing service is largely written in Python\n",
    " - The *Dropbox* storage service codes both its server and desktop client software primarily in Python\n",
    " - The widespread *BitTorrent* peer-to-peer file sharing system began its life as a Python program\n",
    " - *Netflix* and *Yelp* have both documented the role of Python in their software infrastructures\n",
    " - *JPMorgan, Chase, UBS, Getco, and Citadel* apply Python to financial market forecasting\n",
    " - *NASA, Los Alamos, Fermilab, JPL*, and others use Python for scientific programming tasks\n",
    " \n",
    " - In \"The Anatomy of a Large-Scale Hypertextual Web Search Engine\" 1998, Google founders describe the Google architecture\n",
    "    - crawlers were written in python !"
   ]
  },
  {
   "cell_type": "markdown",
   "metadata": {},
   "source": [
    "# Python types\n",
    "\n",
    "Python provides the following types:\n",
    "\n",
    "| Object type | Examples |\n",
    "|:-:|:-:|\n",
    "| Numbers | `1234`, `3.1415`, `3+4j`, ... |\n",
    "| Strings | `'spam'`, `\"Bob's\"`, ... |\n",
    "| Lists   | `[1, [2, 'three'], 4.5]`, `list(range(10))`, ... |\n",
    "| Dictionaries | `{'food': 'spam', 'taste': 'yum'}`, `dict(hours=10)`, ... |\n",
    "| Tuples |  `(1, 'spam', 4, 'U')`, `tuple('spam')`, ...|\n",
    "| Files |   `open('eggs.txt')`, `open(r'C:\\ham.bin', 'wb')`, ... |\n",
    "| Sets  | `set('abc')`, `{'a', 'b', 'c'}`, ... |\n",
    "| Other core types | `Booleans`, `None`, ... |\n",
    "\n",
    " - The type of a variable is inferred from the expression.\n",
    " - You can use the function `type` to ask Python which type is being used\n",
    " - The type determines the set of valid operators"
   ]
  },
  {
   "cell_type": "code",
   "execution_count": null,
   "metadata": {},
   "outputs": [],
   "source": [
    "a = 2.0\n",
    "print (type(a))\n",
    "a = 7.\n",
    "print (type(a))\n",
    "a = \"Hello!\"\n",
    "print (type(a))"
   ]
  },
  {
   "cell_type": "markdown",
   "metadata": {},
   "source": [
    "# Numbers\n",
    "\n",
    "Check integer vs. floating point division. Type of the results is determined by the operation."
   ]
  },
  {
   "cell_type": "code",
   "execution_count": null,
   "metadata": {},
   "outputs": [],
   "source": [
    "print (\"What is the output of 11/2:\", 11/2)\n",
    "print (\"What is the output of 11%2:\", 11%2)\n",
    "print (\"What is the output of  2**10:\", 2**10)"
   ]
  },
  {
   "cell_type": "code",
   "execution_count": null,
   "metadata": {},
   "outputs": [],
   "source": [
    "print (\"What is the output of 11//2:\", 11//2)"
   ]
  },
  {
   "cell_type": "markdown",
   "metadata": {},
   "source": [
    "# Strings\n",
    "\n",
    "Check the `*` operation."
   ]
  },
  {
   "cell_type": "code",
   "execution_count": null,
   "metadata": {},
   "outputs": [],
   "source": [
    "print (\"What is the output of 'a'+'b':\",  'a'+'b'   )\n",
    "print (\"What is the output of 'a'=='b':\", 'a'=='b'  )\n",
    "print (\"What is the output of 'a'<='b':\", 'a'<='b'  )\n",
    "print (\"What is the output of 'a'<='A':\", 'a'=='A'  )"
   ]
  },
  {
   "cell_type": "code",
   "execution_count": null,
   "metadata": {},
   "outputs": [],
   "source": [
    "print (\"What is the output of 'a'*5:\",    'a'*5 )\n",
    "print (\"What is the output of 'aaaa'/5:\", 'a'/5 )"
   ]
  },
  {
   "cell_type": "code",
   "execution_count": null,
   "metadata": {},
   "outputs": [],
   "source": [
    "print (\"What is the output of int('10')/5:\", int('10')/5)"
   ]
  },
  {
   "cell_type": "markdown",
   "metadata": {},
   "source": [
    "# Conditional Statements\n",
    "\n",
    "Tabbing is used to identify the body of `if`-`else` and other constructs such as `for`, `while`, `functions`.\n",
    "\n",
    "Check if a variable x is within the interval $[0,10]$."
   ]
  },
  {
   "cell_type": "code",
   "execution_count": null,
   "metadata": {},
   "outputs": [],
   "source": [
    "x = 33\n",
    "if x<=10 and x>=0 :\n",
    "    print (\"x is in the interval [0,10]\")\n",
    "    pass # pass does nothing\n",
    "    pass\n",
    "    print (\"I'm here !\")\n",
    "else :\n",
    "    print (\"x is not in the interval [0,10]\")\n",
    "    pass\n",
    "    pass\n"
   ]
  },
  {
   "cell_type": "code",
   "execution_count": null,
   "metadata": {},
   "outputs": [],
   "source": [
    "x = 33\n",
    "# This is a special compact form\n",
    "if 0<=x<=10 :\n",
    "    print (\"x is in the interval [0,10]\")\n",
    "else :\n",
    "    print (\"x is not in the interval [0,10]\")"
   ]
  },
  {
   "cell_type": "code",
   "execution_count": null,
   "metadata": {},
   "outputs": [],
   "source": [
    "x = 33\n",
    "if 0<=x<=10 : print (\"x is in the interval [0,10]\")\n",
    "else : print (\"x is not in the interval [0,10]\")"
   ]
  },
  {
   "cell_type": "markdown",
   "metadata": {},
   "source": [
    "# While loops\n",
    "\n",
    "Nothing new: `while`, `break` `continue`\n"
   ]
  },
  {
   "cell_type": "code",
   "execution_count": null,
   "metadata": {},
   "outputs": [],
   "source": [
    "i = 0\n",
    "while i<10:\n",
    "    pass\n",
    "    if i==8: break\n",
    "    pass\n",
    "    print (\"This is Iteration N.\", i)\n",
    "    pass\n",
    "    i += 1\n",
    "    pass\n",
    "    pass\n",
    "    if i==5: continue\n",
    "    pass\n",
    "    pass\n"
   ]
  },
  {
   "cell_type": "markdown",
   "metadata": {},
   "source": [
    "# For Loops\n",
    "\n",
    "A `range` is a special tool to create sequences of numbers, given start, end, and step parameters."
   ]
  },
  {
   "cell_type": "code",
   "execution_count": null,
   "metadata": {},
   "outputs": [],
   "source": [
    "for i in range(5):\n",
    "    print (\"This is Iteration N.\", i)"
   ]
  },
  {
   "cell_type": "code",
   "execution_count": null,
   "metadata": {},
   "outputs": [],
   "source": [
    "for i in range(0,10,2):\n",
    "    print (\"This is Iteration N.\", i)"
   ]
  },
  {
   "cell_type": "code",
   "execution_count": null,
   "metadata": {},
   "outputs": [],
   "source": [
    "for i in range(10,0,-2):\n",
    "    print (\"This is Iteration N.\", i)"
   ]
  },
  {
   "cell_type": "code",
   "execution_count": null,
   "metadata": {},
   "outputs": [],
   "source": [
    "print ( range(5) )"
   ]
  },
  {
   "cell_type": "markdown",
   "metadata": {},
   "source": [
    "This is called **iterable**! You can only iterate through it ..."
   ]
  },
  {
   "cell_type": "markdown",
   "metadata": {},
   "source": [
    "# Lists\n",
    "\n",
    "Lists are used very frequently, and they can be dynamically modified."
   ]
  },
  {
   "cell_type": "code",
   "execution_count": null,
   "metadata": {},
   "outputs": [],
   "source": [
    "for i in [0,1,2,3,4]:\n",
    "    print (\"This is Iteration N.\", i)"
   ]
  },
  {
   "cell_type": "code",
   "execution_count": null,
   "metadata": {},
   "outputs": [],
   "source": [
    "my_list = [1,2,3] + [4,5]\n",
    "print (my_list)"
   ]
  },
  {
   "cell_type": "code",
   "execution_count": null,
   "metadata": {},
   "outputs": [],
   "source": [
    "my_list = [1,2,3]\n",
    "my_list += [4,5]\n",
    "print (my_list)"
   ]
  },
  {
   "cell_type": "code",
   "execution_count": null,
   "metadata": {},
   "outputs": [],
   "source": [
    "my_list = [1,2,3] + [\"donald duck\", 42.0]\n",
    "print (my_list)"
   ]
  },
  {
   "cell_type": "code",
   "execution_count": null,
   "metadata": {},
   "outputs": [],
   "source": [
    "my_list = [1,2,3] + [\"donald duck\", [\"this\", \"is\", 1, \"nested\", \"list\"] ]\n",
    "print (my_list)"
   ]
  },
  {
   "cell_type": "code",
   "execution_count": null,
   "metadata": {},
   "outputs": [],
   "source": [
    "print ( len([1,2,3,4,5]) )"
   ]
  },
  {
   "cell_type": "code",
   "execution_count": null,
   "metadata": {},
   "outputs": [],
   "source": [
    "my_list = [1,2,3,4,5]\n",
    "print ( my_list[0])\n",
    "print ( my_list[4])\n",
    "print ( my_list[5])"
   ]
  },
  {
   "cell_type": "code",
   "execution_count": null,
   "metadata": {},
   "outputs": [],
   "source": [
    "my_list = [1,2,3,4,5]\n",
    "print ( my_list[-1])\n",
    "print ( my_list[-2])\n",
    "print ( my_list[-100])"
   ]
  },
  {
   "cell_type": "code",
   "execution_count": null,
   "metadata": {},
   "outputs": [],
   "source": [
    "my_list = [1,2,3,4,5,4,3,2,1]\n",
    "\n",
    "print ( 3 in my_list)\n",
    "\n",
    "print ( my_list.count(3))\n",
    "\n",
    "print ( my_list.index(1))\n",
    "# print ( my_list.index(33)) # this raises an error"
   ]
  },
  {
   "cell_type": "markdown",
   "metadata": {},
   "source": [
    "# Slicing\n",
    "\n",
    "Slicing allows to access a sublist"
   ]
  },
  {
   "cell_type": "code",
   "execution_count": null,
   "metadata": {},
   "outputs": [],
   "source": [
    "my_list = ['red', 'orange', 'yellow', 'green', 'blue', 'indigo',\n",
    "           'violet']\n",
    "\n",
    "print ( my_list[1:3] ) "
   ]
  },
  {
   "cell_type": "code",
   "execution_count": null,
   "metadata": {},
   "outputs": [],
   "source": [
    "print ( my_list[3:-1] ) "
   ]
  },
  {
   "cell_type": "code",
   "execution_count": null,
   "metadata": {},
   "outputs": [],
   "source": [
    "print ( my_list[3:] )"
   ]
  },
  {
   "cell_type": "code",
   "execution_count": null,
   "metadata": {},
   "outputs": [],
   "source": [
    "print ( my_list[0:7:2] )"
   ]
  },
  {
   "cell_type": "code",
   "execution_count": null,
   "metadata": {},
   "outputs": [],
   "source": [
    "print ( my_list[0::2] )"
   ]
  },
  {
   "cell_type": "code",
   "execution_count": null,
   "metadata": {},
   "outputs": [],
   "source": [
    "print ( my_list[::2] )"
   ]
  },
  {
   "cell_type": "code",
   "execution_count": null,
   "metadata": {},
   "outputs": [],
   "source": [
    "print ( my_list[::-1] )"
   ]
  },
  {
   "cell_type": "markdown",
   "metadata": {},
   "source": [
    "# Lists are mutable\n",
    "\n",
    "Elements of a list can be replaced. Sublists can be replaced with other sublists."
   ]
  },
  {
   "cell_type": "code",
   "execution_count": null,
   "metadata": {},
   "outputs": [],
   "source": [
    "# original list\n",
    "my_list = ['red', 'orange', 'yellow', 'green', 'blue', 'indigo', 'violet']\n",
    "print (my_list)\n",
    "\n",
    "# modify one element\n",
    "my_list[-2] = 'ultramarine'\n",
    "\n",
    "# the new list\n",
    "print (my_list)"
   ]
  },
  {
   "cell_type": "code",
   "execution_count": null,
   "metadata": {},
   "outputs": [],
   "source": [
    "my_list = ['red', 'orange', 'yellow', 'green', 'blue', 'indigo', 'violet']\n",
    "my_list[4] = ['light blue', 'blue', 'dark blue']\n",
    "print (my_list)"
   ]
  },
  {
   "cell_type": "code",
   "execution_count": null,
   "metadata": {},
   "outputs": [],
   "source": [
    "# here we replace one slice with another slice\n",
    "my_list = ['red', 'orange', 'yellow', 'green', 'blue', 'indigo', 'violet']\n",
    "my_list[4:5] = ['light blue', 'blue', 'dark blue']\n",
    "print (my_list)"
   ]
  },
  {
   "cell_type": "code",
   "execution_count": null,
   "metadata": {},
   "outputs": [],
   "source": [
    "# A special case of replacement when start and end index are the same\n",
    "my_list = ['red', 'orange', 'yellow', 'green', 'blue', 'indigo', 'violet']\n",
    "my_list[5:5] = ['dark blue', 'darker blue'] \n",
    "print (my_list)"
   ]
  },
  {
   "cell_type": "code",
   "execution_count": null,
   "metadata": {},
   "outputs": [],
   "source": [
    "my_list = ['red', 'orange', 'yellow', 'green', 'blue', 'indigo', 'violet']\n",
    "my_list[2] = []\n",
    "print (my_list)"
   ]
  },
  {
   "cell_type": "code",
   "execution_count": null,
   "metadata": {},
   "outputs": [],
   "source": [
    "my_list = ['red', 'orange', 'yellow', 'green', 'blue', 'indigo', 'violet']\n",
    "my_list[2:3] = []\n",
    "print (my_list)"
   ]
  },
  {
   "cell_type": "code",
   "execution_count": null,
   "metadata": {},
   "outputs": [],
   "source": [
    "my_list = ['red', 'orange', 'yellow', 'green', 'blue', 'indigo', 'violet']\n",
    "\n",
    "print (\"Is orange in the rainbow?\", 'orange' in my_list )\n",
    "\n",
    "print (\"Is brown in the rainbow?\", 'brown' in my_list )\n",
    "\n",
    "print (\"Is it true that cobal is not in the rainbow?\", 'cobalt' not in my_list )"
   ]
  },
  {
   "cell_type": "markdown",
   "metadata": {},
   "source": [
    "# Tuple\n",
    "\n",
    "Like lists, but **immutable**."
   ]
  },
  {
   "cell_type": "code",
   "execution_count": null,
   "metadata": {},
   "outputs": [],
   "source": [
    "my_tuple = (1,2,3,4, \"five\")\n",
    "\n",
    "print (my_tuple)\n",
    "print (my_tuple[2])"
   ]
  },
  {
   "cell_type": "code",
   "execution_count": null,
   "metadata": {},
   "outputs": [],
   "source": [
    "my_tuple = (1,2,3) + (4, \"five\")\n",
    "\n",
    "print (my_tuple)\n",
    "print (my_tuple[2])"
   ]
  },
  {
   "cell_type": "code",
   "execution_count": null,
   "metadata": {},
   "outputs": [],
   "source": [
    "my_tuple[2] = 3"
   ]
  },
  {
   "cell_type": "markdown",
   "metadata": {},
   "source": [
    "# Unpacking\n",
    "\n",
    "Multiple assignment, typical of function returning multiple values."
   ]
  },
  {
   "cell_type": "code",
   "execution_count": null,
   "metadata": {},
   "outputs": [],
   "source": [
    "my_tuple = (1,2,3)\n",
    "a,b,c = my_tuple\n",
    "print (a,b,c)"
   ]
  },
  {
   "cell_type": "code",
   "execution_count": null,
   "metadata": {},
   "outputs": [],
   "source": [
    "my_list = [1,2,3]\n",
    "a,b,c = my_list\n",
    "print (a,b,c)"
   ]
  },
  {
   "cell_type": "markdown",
   "metadata": {},
   "source": [
    "# Sorting\n",
    "\n",
    "In-place vs. returning a new list."
   ]
  },
  {
   "cell_type": "code",
   "execution_count": null,
   "metadata": {},
   "outputs": [],
   "source": [
    "my_list = [2,3,1]\n",
    "\n",
    "my_list.sort()\n",
    "\n",
    "print (my_list)"
   ]
  },
  {
   "cell_type": "code",
   "execution_count": null,
   "metadata": {},
   "outputs": [],
   "source": [
    "my_list = [2,3,1]\n",
    "\n",
    "new_list = sorted( my_list )\n",
    "\n",
    "print (my_list)\n",
    "print (new_list)"
   ]
  },
  {
   "cell_type": "markdown",
   "metadata": {},
   "source": [
    "# Careful !\n",
    "\n",
    "**Check** in python tutor: http://pythontutor.com/  !"
   ]
  },
  {
   "cell_type": "code",
   "execution_count": null,
   "metadata": {},
   "outputs": [],
   "source": [
    "a = 11\n",
    "b = a\n",
    "a = 22\n",
    "print (a,b)"
   ]
  },
  {
   "cell_type": "code",
   "execution_count": null,
   "metadata": {},
   "outputs": [],
   "source": [
    "a = [11]\n",
    "b = a\n",
    "a[0] = 22\n",
    "print (a,b)"
   ]
  },
  {
   "cell_type": "code",
   "execution_count": null,
   "metadata": {},
   "outputs": [],
   "source": [
    "my_list = [1,2,3]\n",
    "new_list = my_list\n",
    "new_list[1] = 77\n",
    "\n",
    "print ( new_list + my_list)"
   ]
  },
  {
   "cell_type": "code",
   "execution_count": null,
   "metadata": {},
   "outputs": [],
   "source": [
    "my_list = [1,2,3] *2\n",
    "print (my_list)"
   ]
  },
  {
   "cell_type": "code",
   "execution_count": null,
   "metadata": {},
   "outputs": [],
   "source": [
    "my_list = [ [1,2,3] ]*2\n",
    "print (my_list)"
   ]
  },
  {
   "cell_type": "code",
   "execution_count": null,
   "metadata": {},
   "outputs": [],
   "source": [
    "my_list[0]+= [4]\n",
    "print ( my_list )"
   ]
  },
  {
   "cell_type": "code",
   "execution_count": null,
   "metadata": {},
   "outputs": [],
   "source": [
    "my_tuple = (1,2,3)\n",
    "new_tuple = my_tuple\n",
    "my_tuple += tuple([77])\n",
    "\n",
    "print ( new_tuple + my_tuple)"
   ]
  },
  {
   "cell_type": "code",
   "execution_count": null,
   "metadata": {},
   "outputs": [],
   "source": [
    "# if you want to actually copy a list\n",
    "a = [11]\n",
    "b = a.copy()\n",
    "a[0] = 22\n",
    "print (a,b)"
   ]
  },
  {
   "cell_type": "code",
   "execution_count": null,
   "metadata": {},
   "outputs": [],
   "source": [
    "a = [11]\n",
    "b = list(a)\n",
    "a[0] = 22\n",
    "print (a,b)"
   ]
  },
  {
   "cell_type": "code",
   "execution_count": null,
   "metadata": {},
   "outputs": [],
   "source": [
    "a = [11]\n",
    "b = a[:]\n",
    "a[0] = 22\n",
    "print (a,b)"
   ]
  },
  {
   "cell_type": "markdown",
   "metadata": {},
   "source": [
    "# Iterating through lists\n",
    "\n",
    "Or through multiple lists."
   ]
  },
  {
   "cell_type": "code",
   "execution_count": null,
   "metadata": {},
   "outputs": [],
   "source": [
    "my_list = [2,3,1]\n",
    "for x in my_list:\n",
    "    print (x)"
   ]
  },
  {
   "cell_type": "code",
   "execution_count": null,
   "metadata": {},
   "outputs": [],
   "source": [
    "my_list = [2,3,1]\n",
    "for i,x in enumerate(my_list):\n",
    "    print (i,x)"
   ]
  },
  {
   "cell_type": "code",
   "execution_count": null,
   "metadata": {},
   "outputs": [],
   "source": [
    "my_list = [2,3,1]\n",
    "for z in enumerate(my_list):\n",
    "    print (z, type(z))"
   ]
  },
  {
   "cell_type": "code",
   "execution_count": null,
   "metadata": {},
   "outputs": [],
   "source": [
    "A = [2,3,1]\n",
    "B = [\"two\", \"three\", \"one\"]\n",
    "for a,b in zip(A,B):\n",
    "    print (a,b)"
   ]
  },
  {
   "cell_type": "markdown",
   "metadata": {},
   "source": [
    "# More about strings\n",
    "\n",
    "Strings are like lists of character, but they are immutable."
   ]
  },
  {
   "cell_type": "code",
   "execution_count": null,
   "metadata": {},
   "outputs": [],
   "source": [
    "msg = \"I like programming with python!\""
   ]
  },
  {
   "cell_type": "code",
   "execution_count": null,
   "metadata": {},
   "outputs": [],
   "source": [
    "print (msg[2])"
   ]
  },
  {
   "cell_type": "code",
   "execution_count": null,
   "metadata": {},
   "outputs": [],
   "source": [
    "print (msg[2:6])"
   ]
  },
  {
   "cell_type": "code",
   "execution_count": null,
   "metadata": {},
   "outputs": [],
   "source": [
    "msg[3] = \"x\""
   ]
  },
  {
   "cell_type": "code",
   "execution_count": null,
   "metadata": {},
   "outputs": [],
   "source": [
    "for c in msg:\n",
    "    print (c)"
   ]
  },
  {
   "cell_type": "code",
   "execution_count": null,
   "metadata": {},
   "outputs": [],
   "source": [
    "print (msg.split())"
   ]
  },
  {
   "cell_type": "code",
   "execution_count": null,
   "metadata": {},
   "outputs": [],
   "source": [
    "print (msg.split(\"i\"))"
   ]
  },
  {
   "cell_type": "code",
   "execution_count": null,
   "metadata": {},
   "outputs": [],
   "source": [
    "#Remove leading and training whitespaces\n",
    "\n",
    "my_string = \"     A Bit of Python \\n\"\n",
    "\n",
    "print ( \"---\", my_string, \"---\", sep=\"\" )\n",
    "print ( \"---\", my_string.strip(), \"---\", sep=\"\" )"
   ]
  },
  {
   "cell_type": "code",
   "execution_count": null,
   "metadata": {},
   "outputs": [],
   "source": [
    "# Remove leading and training characters of choice\n",
    "\n",
    "my_string = \"###!#!#!##!#A Bit of Python?!!???##\"\n",
    "\n",
    "print ( \"---\", my_string.strip(\"#\"), \"---\", sep=\"\" )\n",
    "print ( \"---\", my_string.strip(\"#?\"), \"---\", sep=\"\" )\n",
    "print ( \"---\", my_string.strip(\"!?#\"), \"---\", sep=\"\" )"
   ]
  },
  {
   "cell_type": "markdown",
   "metadata": {},
   "source": [
    "# Sets\n",
    "\n",
    "The mathematical notion of set."
   ]
  },
  {
   "cell_type": "code",
   "execution_count": null,
   "metadata": {},
   "outputs": [],
   "source": [
    "my_set = set([1,2,3,4,5,4,3,2,1])\n",
    "\n",
    "print (my_set)"
   ]
  },
  {
   "cell_type": "code",
   "execution_count": null,
   "metadata": {},
   "outputs": [],
   "source": [
    "A = set([1,2,3])\n",
    "B = set([4,5])\n",
    "C = A | B\n",
    "\n",
    "print (C)"
   ]
  },
  {
   "cell_type": "code",
   "execution_count": null,
   "metadata": {},
   "outputs": [],
   "source": [
    "A = set([1,2,3])\n",
    "B = set([3,4,5])\n",
    "C = A & B\n",
    "\n",
    "print (C)"
   ]
  },
  {
   "cell_type": "code",
   "execution_count": null,
   "metadata": {},
   "outputs": [],
   "source": [
    "A = set([1,2,3])\n",
    "B = set([3,4,5])\n",
    "C = A - B\n",
    "\n",
    "print (C)"
   ]
  },
  {
   "cell_type": "code",
   "execution_count": null,
   "metadata": {},
   "outputs": [],
   "source": [
    "A = set([1,2,3])\n",
    "B = set([3,4,5])\n",
    "\n",
    "print (1 in A)\n",
    "print (7 not in A)"
   ]
  },
  {
   "cell_type": "markdown",
   "metadata": {},
   "source": [
    "# Dictionaries\n",
    "\n",
    "A dictionary is a map"
   ]
  },
  {
   "cell_type": "code",
   "execution_count": null,
   "metadata": {},
   "outputs": [],
   "source": [
    "my_dict = {1:\"Jan\", 2:\"Feb\", 3:\"Mar\", 4:\"Apr\", 5:\"May\", 6:\"Jun\",\n",
    "           7:\"Jul\", 8:\"Aug\", 9:\"Sep\", 10:\"Oct\", 11:\"Nov\", 12:\"Dec\"}\n",
    "\n",
    "print (my_dict[0])"
   ]
  },
  {
   "cell_type": "code",
   "execution_count": null,
   "metadata": {},
   "outputs": [],
   "source": [
    "my_dict = {1:\"Jan\", 2:\"Feb\", 3:\"Mar\", 4:\"Apr\", 5:\"May\", 6:\"Jun\",\n",
    "           7:\"Jul\", 8:\"Aug\", 9:\"Sep\", 10:\"Oct\", 11:\"Nov\", 12:\"Dec\"}\n",
    "\n",
    "print (my_dict[1])\n",
    "print (my_dict[12])"
   ]
  },
  {
   "cell_type": "code",
   "execution_count": null,
   "metadata": {},
   "outputs": [],
   "source": [
    "my_dict = {1:\"Jan\", 2:\"Feb\", 3:\"Mar\", 4:\"Apr\", 5:\"May\", 6:\"Jun\",\n",
    "           7:\"Jul\", 8:\"Aug\", 9:\"Sep\", 10:\"Oct\", 11:\"Nov\", 12:\"Dec\"}\n",
    "\n",
    "my_dict[1] = 777\n",
    "del my_dict[12]\n",
    "print (my_dict)"
   ]
  },
  {
   "cell_type": "code",
   "execution_count": null,
   "metadata": {},
   "outputs": [],
   "source": [
    "my_dict[8474] = \"claudio\"\n",
    "print (my_dict)"
   ]
  },
  {
   "cell_type": "code",
   "execution_count": null,
   "metadata": {},
   "outputs": [],
   "source": [
    "print (my_dict.keys())"
   ]
  },
  {
   "cell_type": "code",
   "execution_count": null,
   "metadata": {},
   "outputs": [],
   "source": [
    "print (my_dict.values())"
   ]
  },
  {
   "cell_type": "code",
   "execution_count": null,
   "metadata": {},
   "outputs": [],
   "source": [
    "my_dict = {1:\"Jan\", 2:\"Feb\", 3:\"Mar\", 4:\"Apr\", 5:\"May\", 6:\"Jun\",\n",
    "           7:\"Jul\", 8:\"Aug\", 9:\"Sep\", 10:\"Oct\", 11:\"Nov\", 12:\"Dec\"}\n",
    "\n",
    "for k in my_dict:\n",
    "    print (k)"
   ]
  },
  {
   "cell_type": "code",
   "execution_count": null,
   "metadata": {},
   "outputs": [],
   "source": [
    "my_dict = {1:\"Jan\", 2:\"Feb\", 3:\"Mar\", 4:\"Apr\", 5:\"May\", 6:\"Jun\",\n",
    "           7:\"Jul\", 8:\"Aug\", 9:\"Sep\", 10:\"Oct\", 11:\"Nov\", 12:\"Dec\"}\n",
    "\n",
    "for k,v in my_dict.items():\n",
    "    print (k,v)"
   ]
  },
  {
   "cell_type": "markdown",
   "metadata": {},
   "source": [
    "# Comprehensions\n",
    "\n",
    "Creating lists by iterating through other lists."
   ]
  },
  {
   "cell_type": "code",
   "execution_count": null,
   "metadata": {},
   "outputs": [],
   "source": [
    "my_list = [x**2 for x in range(10)]\n",
    "print (my_list)"
   ]
  },
  {
   "cell_type": "code",
   "execution_count": null,
   "metadata": {},
   "outputs": [],
   "source": [
    "my_list = [x**2 for x in range(10) if x%2==0]\n",
    "print (my_list)"
   ]
  },
  {
   "cell_type": "code",
   "execution_count": null,
   "metadata": {},
   "outputs": [],
   "source": [
    "my_dict = {x:x**2 for x in range(10) if x%2==0}\n",
    "print (my_dict)"
   ]
  },
  {
   "cell_type": "markdown",
   "metadata": {},
   "source": [
    "# Functions\n",
    "\n",
    "Do not write code outside functions! \n",
    "\n",
    "Careful when passing lists as parameters.\n",
    "\n",
    "You can return lists, tuples, sets, dictionaries.\n",
    "\n",
    "Get used to move *stable* functions in a separate `module.py`."
   ]
  },
  {
   "cell_type": "code",
   "execution_count": null,
   "metadata": {},
   "outputs": [],
   "source": [
    "def square(x):\n",
    "    return x**2\n",
    "\n",
    "print ( square(3) )"
   ]
  },
  {
   "cell_type": "code",
   "execution_count": null,
   "metadata": {},
   "outputs": [],
   "source": [
    "def powers(x,n):\n",
    "    return [ x**i for i in range(n) ]\n",
    "\n",
    "print ( powers(2,5) )"
   ]
  },
  {
   "cell_type": "code",
   "execution_count": null,
   "metadata": {},
   "outputs": [],
   "source": [
    "copy_f = powers\n",
    "\n",
    "print ( copy_f(2,5) )"
   ]
  },
  {
   "cell_type": "code",
   "execution_count": null,
   "metadata": {},
   "outputs": [],
   "source": [
    "powers_3 = lambda x:powers(x,3)\n",
    "\n",
    "print (powers_3(3))"
   ]
  },
  {
   "cell_type": "code",
   "execution_count": null,
   "metadata": {},
   "outputs": [],
   "source": [
    "a = [1,-2,3,-4,5,-6]\n",
    "\n",
    "print (sorted(a))\n",
    "\n",
    "print (sorted(a, key=lambda x:abs(x)))"
   ]
  },
  {
   "cell_type": "code",
   "execution_count": null,
   "metadata": {},
   "outputs": [],
   "source": [
    "def add1(x):\n",
    "    x+=1\n",
    "    return x\n",
    "\n",
    "y = 10\n",
    "z = add1(y)\n",
    "print( y,z )"
   ]
  },
  {
   "cell_type": "code",
   "execution_count": null,
   "metadata": {},
   "outputs": [],
   "source": [
    "def add1(x):\n",
    "    for i in range(len(x)):\n",
    "        x[i] = x[i]+1\n",
    "    return x\n",
    "\n",
    "\n",
    "y = [1,2,3,4,5]\n",
    "z = add1(y)\n",
    "print( y,z )"
   ]
  },
  {
   "cell_type": "markdown",
   "metadata": {},
   "source": [
    "# JSON\n",
    "\n",
    "JavaScript Object Notation, very popular in Web APIs."
   ]
  },
  {
   "cell_type": "code",
   "execution_count": null,
   "metadata": {},
   "outputs": [],
   "source": [
    "import json\n",
    "\n",
    "a  = {\"key\": 10}\n",
    "\n",
    "# to string\n",
    "s = json.dumps(a)\n",
    "\n",
    "print (type(s))\n",
    "print (s)\n"
   ]
  },
  {
   "cell_type": "code",
   "execution_count": null,
   "metadata": {},
   "outputs": [],
   "source": [
    "a = json.loads('{\"key\": 10}')\n",
    "\n",
    "print (type(a))\n",
    "print (a)"
   ]
  },
  {
   "cell_type": "markdown",
   "metadata": {},
   "source": [
    "# Files\n",
    "\n",
    "Check how to iterate through a file, and how to run shell commands in Jupyter."
   ]
  },
  {
   "cell_type": "code",
   "execution_count": null,
   "metadata": {},
   "outputs": [],
   "source": [
    "out_file = open(\"test.txt\", \"w\")\n",
    "out_file.write(\"line 1\\n\")\n",
    "out_file.write(\"line 2\\n\")\n",
    "out_file.close()"
   ]
  },
  {
   "cell_type": "code",
   "execution_count": null,
   "metadata": {},
   "outputs": [],
   "source": [
    "!cat test.txt"
   ]
  },
  {
   "cell_type": "code",
   "execution_count": null,
   "metadata": {},
   "outputs": [],
   "source": [
    "out_file = open(\"test.txt\", \"w\")\n",
    "print (\"line 11\", file=out_file)\n",
    "print (\"line 22\", file=out_file)\n",
    "out_file.close()"
   ]
  },
  {
   "cell_type": "code",
   "execution_count": null,
   "metadata": {},
   "outputs": [],
   "source": [
    "in_file = open(\"test.txt\", \"r\")\n",
    "line = in_file.readline()\n",
    "print ( line )\n",
    "line = in_file.readline()\n",
    "print ( line )\n",
    "\n",
    "in_file.close()"
   ]
  },
  {
   "cell_type": "code",
   "execution_count": null,
   "metadata": {},
   "outputs": [],
   "source": [
    "with open(\"test.txt\", \"r\") as in_file:\n",
    "    line = in_file.readline()\n",
    "    print ( line )"
   ]
  },
  {
   "cell_type": "code",
   "execution_count": null,
   "metadata": {},
   "outputs": [],
   "source": [
    "with open(\"test.txt\", \"r\") as in_file:\n",
    "    for line in in_file:\n",
    "        print ( line )"
   ]
  },
  {
   "cell_type": "code",
   "execution_count": null,
   "metadata": {},
   "outputs": [],
   "source": [
    "with open(\"test.txt\", \"r\") as in_file:\n",
    "    for line in in_file:\n",
    "        print ( \"**\" + line + \"** \")"
   ]
  },
  {
   "cell_type": "code",
   "execution_count": null,
   "metadata": {},
   "outputs": [],
   "source": [
    "with open(\"test.txt\", \"r\") as in_file:\n",
    "    for line in in_file:\n",
    "        print (line, end=\"\")"
   ]
  },
  {
   "cell_type": "markdown",
   "metadata": {},
   "source": [
    "# JSON"
   ]
  },
  {
   "cell_type": "code",
   "execution_count": null,
   "metadata": {},
   "outputs": [],
   "source": [
    "import json\n",
    "\n",
    "a  = {\"key\": 10}\n",
    "\n",
    "# to string\n",
    "with open(\"test.txt\", \"w\") as out_file:\n",
    "    json.dump(a,out_file)\n",
    "\n",
    "!cat test.txt"
   ]
  },
  {
   "cell_type": "code",
   "execution_count": null,
   "metadata": {},
   "outputs": [],
   "source": [
    "with open(\"test.txt\", \"r\") as in_file:\n",
    "    b = json.load(in_file)\n",
    "    print (type(b))\n",
    "    print (b)"
   ]
  },
  {
   "cell_type": "markdown",
   "metadata": {},
   "source": [
    "# Let's collect some stats from our data\n",
    "\n",
    "I used excel to transform the data file from http://tennis-data.co.uk/alldata.php into a csv file."
   ]
  },
  {
   "cell_type": "code",
   "execution_count": 1,
   "metadata": {},
   "outputs": [
    {
     "name": "stdout",
     "output_type": "stream",
     "text": [
      "2019.csv  \u001b[31m2019.xlsx\u001b[m\u001b[m\r\n"
     ]
    }
   ],
   "source": [
    "!ls ../datasets/tennis/"
   ]
  },
  {
   "cell_type": "code",
   "execution_count": 2,
   "metadata": {},
   "outputs": [
    {
     "name": "stdout",
     "output_type": "stream",
     "text": [
      "﻿ATP,Location,Tournament,Date,Series,Court,Surface,Round,Best of,Winner,Loser,WRank,LRank,WPts,LPts,W1,L1,W2,L2,W3,L3,W4,L4,W5,L5,Wsets,Lsets,Comment,B365W,B365L,PSW,PSL,MaxW,MaxL,AvgW,AvgL\r",
      "\r\n",
      "1,Brisbane,Brisbane International,12/31/18,ATP250,Outdoor,Hard,1st Round,3,Dimitrov G.,Nishioka Y.,19,75,1835,701,6,3,6,4,,,,,,,2,0,Completed,1.36,3,1.36,3.37,1.42,3.6,1.35,3.18\r",
      "\r\n",
      "1,Brisbane,Brisbane International,12/31/18,ATP250,Outdoor,Hard,1st Round,3,Raonic M.,Bedene A.,18,67,1855,780,6,0,6,3,,,,,,,2,0,Completed,1.18,4.5,1.23,4.68,1.27,4.84,1.22,4.26\r",
      "\r\n",
      "1,Brisbane,Brisbane International,12/31/18,ATP250,Outdoor,Hard,1st Round,3,Kecmanovic M.,Mayer L.,131,56,433,895,6,3,6,1,,,,,,,2,0,Completed,1.57,2.25,1.67,2.32,1.71,2.4,1.63,2.28\r",
      "\r\n",
      "1,Brisbane,Brisbane International,12/31/18,ATP250,Outdoor,Hard,1st Round,3,Millman J.,Sandgren T.,38,61,1083,814,7,6,6,7,6,0,,,,,2,1,Completed,1.4,2.75,1.41,3.13,1.45,3.2,1.4,2.95\r",
      "\r\n",
      "1,Brisbane,Brisbane International,12/31/18,ATP250,Outdoor,Hard,1st Round,3,Uchiyama Y.,Humbert U.,185,102,275,572,6,4,7,6,,,,,,,2,0,Completed,2.62,1.44,2.73,1.51,3.26,1.53,2.69,1.47\r",
      "\r\n",
      "1,Brisbane,Brisbane International,1/1/19,ATP250,Outdoor,Hard,1st Round,3,Kudla D.,Fritz T.,63,49,810,974,7,6,6,7,6,4,,,,,2,1,Completed,2.62,1.44,2.8,1.49,2.85,1.55,2.7,1.47\r",
      "\r\n",
      "1,Brisbane,Brisbane International,1/1/19,ATP250,Outdoor,Hard,1st Round,3,Chardy J.,Struff J.L.,40,57,1050,875,4,6,6,3,6,4,,,,,2,1,Completed,2.1,1.66,2.23,1.72,2.26,1.74,2.19,1.68\r",
      "\r\n",
      "1,Brisbane,Brisbane International,1/1/19,ATP250,Outdoor,Hard,1st Round,3,Murray A.,Duckworth J.,240,234,200,206,6,3,6,4,,,,,,,2,0,Completed,1.28,3.5,1.38,3.29,1.39,3.6,1.34,3.26\r",
      "\r\n",
      "1,Brisbane,Brisbane International,1/1/19,ATP250,Outdoor,Hard,1st Round,3,Kyrgios N.,Harrison R.,35,62,1125,810,7,6,5,7,7,6,,,,,2,1,Completed,1.4,2.75,1.47,2.87,1.5,3.16,1.44,2.8\r",
      "\r\n"
     ]
    }
   ],
   "source": [
    "!head ../datasets/tennis/2019.csv"
   ]
  },
  {
   "cell_type": "code",
   "execution_count": 1,
   "metadata": {},
   "outputs": [],
   "source": [
    "def load_data(data_file):\n",
    "    # read text lines\n",
    "    raw_lines = []\n",
    "    with open(data_file) as f:\n",
    "        raw_lines = [line.strip() for line in f]\n",
    "    \n",
    "    # extract header\n",
    "    header = raw_lines[0]\n",
    "    fields = header.split(\",\")\n",
    "    \n",
    "    # put data into a \"transposed\" dictionary\n",
    "    data = { c:[] for c in fields }\n",
    "    for line in raw_lines[1:]:\n",
    "        values = line.split(\";\")\n",
    "        for c,v in zip(fields, values):\n",
    "            data[c] += [v]\n",
    "    \n",
    "    return data"
   ]
  },
  {
   "cell_type": "code",
   "execution_count": 2,
   "metadata": {},
   "outputs": [
    {
     "name": "stdout",
     "output_type": "stream",
     "text": [
      "dict_keys(['\\ufeffATP', 'Location', 'Tournament', 'Date', 'Series', 'Court', 'Surface', 'Round', 'Best of', 'Winner', 'Loser', 'WRank', 'LRank', 'WPts', 'LPts', 'W1', 'L1', 'W2', 'L2', 'W3', 'L3', 'W4', 'L4', 'W5', 'L5', 'Wsets', 'Lsets', 'Comment', 'B365W', 'B365L', 'PSW', 'PSL', 'MaxW', 'MaxL', 'AvgW', 'AvgL'])\n"
     ]
    }
   ],
   "source": [
    "dataset = \"../datasets/tennis/2019.csv\"\n",
    "\n",
    "data = load_data(dataset)\n",
    "print ( data.keys() )"
   ]
  },
  {
   "cell_type": "code",
   "execution_count": 5,
   "metadata": {},
   "outputs": [
    {
     "name": "stdout",
     "output_type": "stream",
     "text": [
      "['Brisbane', 'Brisbane', 'Brisbane', 'Brisbane', 'Brisbane', 'Brisbane', 'Brisbane', 'Brisbane', 'Brisbane', 'Brisbane', 'Brisbane', 'Brisbane', 'Brisbane', 'Brisbane', 'Brisbane', 'Brisbane', 'Brisbane', 'Brisbane', 'Brisbane', 'Brisbane', 'Brisbane', 'Brisbane', 'Brisbane', 'Brisbane', 'Brisbane', 'Brisbane', 'Brisbane', 'Doha', 'Doha', 'Doha', 'Doha', 'Doha', 'Doha', 'Doha', 'Doha', 'Doha', 'Doha', 'Doha', 'Doha', 'Doha', 'Doha', 'Doha', 'Doha', 'Doha', 'Doha', 'Doha', 'Doha', 'Doha', 'Doha', 'Doha', 'Doha', 'Doha', 'Doha', 'Doha', 'Doha', 'Doha', 'Doha', 'Doha', 'Pune', 'Pune', 'Pune', 'Pune', 'Pune', 'Pune', 'Pune', 'Pune', 'Pune', 'Pune', 'Pune', 'Pune', 'Pune', 'Pune', 'Pune', 'Pune', 'Pune', 'Pune', 'Pune', 'Pune', 'Pune', 'Pune', 'Pune', 'Pune', 'Pune', 'Pune', 'Pune', 'Auckland', 'Auckland', 'Auckland', 'Auckland', 'Auckland', 'Auckland', 'Auckland', 'Auckland', 'Auckland', 'Auckland', 'Auckland', 'Auckland', 'Auckland', 'Auckland', 'Auckland', 'Auckland', 'Auckland', 'Auckland', 'Auckland', 'Auckland', 'Auckland', 'Auckland', 'Auckland', 'Auckland', 'Auckland', 'Auckland', 'Auckland', 'Sydney', 'Sydney', 'Sydney', 'Sydney', 'Sydney', 'Sydney', 'Sydney', 'Sydney', 'Sydney', 'Sydney', 'Sydney', 'Sydney', 'Sydney', 'Sydney', 'Sydney', 'Sydney', 'Sydney', 'Sydney', 'Sydney', 'Sydney', 'Sydney', 'Sydney', 'Sydney', 'Sydney', 'Sydney', 'Sydney', 'Sydney', 'Melbourne', 'Melbourne', 'Melbourne', 'Melbourne', 'Melbourne', 'Melbourne', 'Melbourne', 'Melbourne', 'Melbourne', 'Melbourne', 'Melbourne', 'Melbourne', 'Melbourne', 'Melbourne', 'Melbourne', 'Melbourne', 'Melbourne', 'Melbourne', 'Melbourne', 'Melbourne', 'Melbourne', 'Melbourne', 'Melbourne', 'Melbourne', 'Melbourne', 'Melbourne', 'Melbourne', 'Melbourne', 'Melbourne', 'Melbourne', 'Melbourne', 'Melbourne', 'Melbourne', 'Melbourne', 'Melbourne', 'Melbourne', 'Melbourne', 'Melbourne', 'Melbourne', 'Melbourne', 'Melbourne', 'Melbourne', 'Melbourne', 'Melbourne', 'Melbourne', 'Melbourne', 'Melbourne', 'Melbourne', 'Melbourne', 'Melbourne', 'Melbourne', 'Melbourne', 'Melbourne', 'Melbourne', 'Melbourne', 'Melbourne', 'Melbourne', 'Melbourne', 'Melbourne', 'Melbourne', 'Melbourne', 'Melbourne', 'Melbourne', 'Melbourne', 'Melbourne', 'Melbourne', 'Melbourne', 'Melbourne', 'Melbourne', 'Melbourne', 'Melbourne', 'Melbourne', 'Melbourne', 'Melbourne', 'Melbourne', 'Melbourne', 'Melbourne', 'Melbourne', 'Melbourne', 'Melbourne', 'Melbourne', 'Melbourne', 'Melbourne', 'Melbourne', 'Melbourne', 'Melbourne', 'Melbourne', 'Melbourne', 'Melbourne', 'Melbourne', 'Melbourne', 'Melbourne', 'Melbourne', 'Melbourne', 'Melbourne', 'Melbourne', 'Melbourne', 'Melbourne', 'Melbourne', 'Melbourne', 'Melbourne', 'Melbourne', 'Melbourne', 'Melbourne', 'Melbourne', 'Melbourne', 'Melbourne', 'Melbourne', 'Melbourne', 'Melbourne', 'Melbourne', 'Melbourne', 'Melbourne', 'Melbourne', 'Melbourne', 'Melbourne', 'Melbourne', 'Melbourne', 'Melbourne', 'Melbourne', 'Melbourne', 'Melbourne', 'Melbourne', 'Melbourne', 'Melbourne', 'Melbourne', 'Melbourne', 'Cordoba', 'Cordoba', 'Cordoba', 'Cordoba', 'Cordoba', 'Cordoba', 'Cordoba', 'Cordoba', 'Cordoba', 'Cordoba', 'Cordoba', 'Cordoba', 'Cordoba', 'Cordoba', 'Cordoba', 'Cordoba', 'Cordoba', 'Cordoba', 'Cordoba', 'Cordoba', 'Cordoba', 'Cordoba', 'Cordoba', 'Cordoba', 'Cordoba', 'Cordoba', 'Cordoba', 'Montpellier', 'Montpellier', 'Montpellier', 'Montpellier', 'Montpellier', 'Montpellier', 'Montpellier', 'Montpellier', 'Montpellier', 'Montpellier', 'Montpellier', 'Montpellier', 'Montpellier', 'Montpellier', 'Montpellier', 'Montpellier', 'Montpellier', 'Montpellier', 'Montpellier', 'Montpellier', 'Montpellier', 'Montpellier', 'Montpellier', 'Montpellier', 'Montpellier', 'Montpellier', 'Montpellier', 'Sofia', 'Sofia', 'Sofia', 'Sofia', 'Sofia', 'Sofia', 'Sofia', 'Sofia', 'Sofia', 'Sofia', 'Sofia', 'Sofia', 'Sofia', 'Sofia', 'Sofia', 'Sofia', 'Sofia', 'Sofia', 'Sofia', 'Sofia', 'Sofia', 'Sofia', 'Sofia', 'Sofia', 'Sofia', 'Sofia', 'Sofia', 'Buenos Aires', 'Buenos Aires', 'Buenos Aires', 'Buenos Aires', 'Buenos Aires', 'Buenos Aires', 'Buenos Aires', 'Buenos Aires', 'Buenos Aires', 'Buenos Aires', 'Buenos Aires', 'Buenos Aires', 'Buenos Aires', 'Buenos Aires', 'Buenos Aires', 'Buenos Aires', 'Buenos Aires', 'Buenos Aires', 'Buenos Aires', 'Buenos Aires', 'Buenos Aires', 'Buenos Aires', 'Buenos Aires', 'Buenos Aires', 'Buenos Aires', 'Buenos Aires', 'Buenos Aires', 'New York', 'New York', 'New York', 'New York', 'New York', 'New York', 'New York', 'New York', 'New York', 'New York', 'New York', 'New York', 'New York', 'New York', 'New York', 'New York', 'New York', 'New York', 'New York', 'New York', 'New York', 'New York', 'New York', 'New York', 'New York', 'New York', 'New York', 'Rotterdam', 'Rotterdam', 'Rotterdam', 'Rotterdam', 'Rotterdam', 'Rotterdam', 'Rotterdam', 'Rotterdam', 'Rotterdam', 'Rotterdam', 'Rotterdam', 'Rotterdam', 'Rotterdam', 'Rotterdam', 'Rotterdam', 'Rotterdam', 'Rotterdam', 'Rotterdam', 'Rotterdam', 'Rotterdam', 'Rotterdam', 'Rotterdam', 'Rotterdam', 'Rotterdam', 'Rotterdam', 'Rotterdam', 'Rotterdam', 'Rotterdam', 'Rotterdam', 'Rotterdam', 'Rotterdam', 'Delray Beach', 'Delray Beach', 'Delray Beach', 'Delray Beach', 'Delray Beach', 'Delray Beach', 'Delray Beach', 'Delray Beach', 'Delray Beach', 'Delray Beach', 'Delray Beach', 'Delray Beach', 'Delray Beach', 'Delray Beach', 'Delray Beach', 'Delray Beach', 'Delray Beach', 'Delray Beach', 'Delray Beach', 'Delray Beach', 'Delray Beach', 'Delray Beach', 'Delray Beach', 'Delray Beach', 'Delray Beach', 'Delray Beach', 'Delray Beach', 'Delray Beach', 'Delray Beach', 'Delray Beach', 'Delray Beach', 'Marseille', 'Marseille', 'Marseille', 'Marseille', 'Marseille', 'Marseille', 'Marseille', 'Marseille', 'Marseille', 'Marseille', 'Marseille', 'Marseille', 'Marseille', 'Marseille', 'Marseille', 'Marseille', 'Marseille', 'Marseille', 'Marseille', 'Marseille', 'Marseille', 'Marseille', 'Marseille', 'Marseille', 'Marseille', 'Marseille', 'Marseille', 'Rio de Janeiro', 'Rio de Janeiro', 'Rio de Janeiro', 'Rio de Janeiro', 'Rio de Janeiro', 'Rio de Janeiro', 'Rio de Janeiro', 'Rio de Janeiro', 'Rio de Janeiro', 'Rio de Janeiro', 'Rio de Janeiro', 'Rio de Janeiro', 'Rio de Janeiro', 'Rio de Janeiro', 'Rio de Janeiro', 'Rio de Janeiro', 'Rio de Janeiro', 'Rio de Janeiro', 'Rio de Janeiro', 'Rio de Janeiro', 'Rio de Janeiro', 'Rio de Janeiro', 'Rio de Janeiro', 'Rio de Janeiro', 'Rio de Janeiro', 'Rio de Janeiro', 'Rio de Janeiro', 'Rio de Janeiro', 'Rio de Janeiro', 'Rio de Janeiro', 'Rio de Janeiro', 'Acapulco', 'Acapulco', 'Acapulco', 'Acapulco', 'Acapulco', 'Acapulco', 'Acapulco', 'Acapulco', 'Acapulco', 'Acapulco', 'Acapulco', 'Acapulco', 'Acapulco', 'Acapulco', 'Acapulco', 'Acapulco', 'Acapulco', 'Acapulco', 'Acapulco', 'Acapulco', 'Acapulco', 'Acapulco', 'Acapulco', 'Acapulco', 'Acapulco', 'Acapulco', 'Acapulco', 'Acapulco', 'Acapulco', 'Acapulco', 'Acapulco', 'Dubai ', 'Dubai ', 'Dubai ', 'Dubai ', 'Dubai ', 'Dubai ', 'Dubai ', 'Dubai ', 'Dubai ', 'Dubai ', 'Dubai ', 'Dubai ', 'Dubai ', 'Dubai ', 'Dubai ', 'Dubai ', 'Dubai ', 'Dubai ', 'Dubai ', 'Dubai ', 'Dubai ', 'Dubai ', 'Dubai ', 'Dubai ', 'Dubai ', 'Dubai ', 'Dubai ', 'Dubai ', 'Dubai ', 'Dubai ', 'Dubai ', 'Sao Paulo', 'Sao Paulo', 'Sao Paulo', 'Sao Paulo', 'Sao Paulo', 'Sao Paulo', 'Sao Paulo', 'Sao Paulo', 'Sao Paulo', 'Sao Paulo', 'Sao Paulo', 'Sao Paulo', 'Sao Paulo', 'Sao Paulo', 'Sao Paulo', 'Sao Paulo', 'Sao Paulo', 'Sao Paulo', 'Sao Paulo', 'Sao Paulo', 'Sao Paulo', 'Sao Paulo', 'Sao Paulo', 'Sao Paulo', 'Sao Paulo', 'Sao Paulo', 'Sao Paulo', 'Indian Wells', 'Indian Wells', 'Indian Wells', 'Indian Wells', 'Indian Wells', 'Indian Wells', 'Indian Wells', 'Indian Wells', 'Indian Wells', 'Indian Wells', 'Indian Wells', 'Indian Wells', 'Indian Wells', 'Indian Wells', 'Indian Wells', 'Indian Wells', 'Indian Wells', 'Indian Wells', 'Indian Wells', 'Indian Wells', 'Indian Wells', 'Indian Wells', 'Indian Wells', 'Indian Wells', 'Indian Wells', 'Indian Wells', 'Indian Wells', 'Indian Wells', 'Indian Wells', 'Indian Wells', 'Indian Wells', 'Indian Wells', 'Indian Wells', 'Indian Wells', 'Indian Wells', 'Indian Wells', 'Indian Wells', 'Indian Wells', 'Indian Wells', 'Indian Wells', 'Indian Wells', 'Indian Wells', 'Indian Wells', 'Indian Wells', 'Indian Wells', 'Indian Wells', 'Indian Wells', 'Indian Wells', 'Indian Wells', 'Indian Wells', 'Indian Wells', 'Indian Wells', 'Indian Wells', 'Indian Wells', 'Indian Wells', 'Indian Wells', 'Indian Wells', 'Indian Wells', 'Indian Wells', 'Indian Wells', 'Indian Wells', 'Indian Wells', 'Indian Wells', 'Indian Wells', 'Indian Wells', 'Indian Wells', 'Indian Wells', 'Indian Wells', 'Indian Wells', 'Indian Wells', 'Indian Wells', 'Indian Wells', 'Indian Wells', 'Indian Wells', 'Indian Wells', 'Indian Wells', 'Indian Wells', 'Indian Wells', 'Indian Wells', 'Indian Wells', 'Indian Wells', 'Indian Wells', 'Indian Wells', 'Indian Wells', 'Indian Wells', 'Indian Wells', 'Indian Wells', 'Indian Wells', 'Indian Wells', 'Indian Wells', 'Indian Wells', 'Indian Wells', 'Indian Wells', 'Indian Wells', 'Indian Wells', 'Miami', 'Miami', 'Miami', 'Miami', 'Miami', 'Miami', 'Miami', 'Miami', 'Miami', 'Miami', 'Miami', 'Miami', 'Miami', 'Miami', 'Miami', 'Miami', 'Miami', 'Miami', 'Miami', 'Miami', 'Miami', 'Miami', 'Miami', 'Miami', 'Miami', 'Miami', 'Miami', 'Miami', 'Miami', 'Miami', 'Miami', 'Miami', 'Miami', 'Miami', 'Miami', 'Miami', 'Miami', 'Miami', 'Miami', 'Miami', 'Miami', 'Miami', 'Miami', 'Miami', 'Miami', 'Miami', 'Miami', 'Miami', 'Miami', 'Miami', 'Miami', 'Miami', 'Miami', 'Miami', 'Miami', 'Miami', 'Miami', 'Miami', 'Miami', 'Miami', 'Miami', 'Miami', 'Miami', 'Miami', 'Miami', 'Miami', 'Miami', 'Miami', 'Miami', 'Miami', 'Miami', 'Miami', 'Miami', 'Miami', 'Miami', 'Miami', 'Miami', 'Miami', 'Miami', 'Miami', 'Miami', 'Miami', 'Miami', 'Miami', 'Miami', 'Miami', 'Miami', 'Miami', 'Miami', 'Miami', 'Miami', 'Miami', 'Miami', 'Miami', 'Miami', 'Houston', 'Houston', 'Houston', 'Houston', 'Houston', 'Houston', 'Houston', 'Houston', 'Houston', 'Houston', 'Houston', 'Houston', 'Houston', 'Houston', 'Houston', 'Houston', 'Houston', 'Houston', 'Houston', 'Houston', 'Houston', 'Houston', 'Houston', 'Houston', 'Houston', 'Houston', 'Houston', 'Marrakech', 'Marrakech', 'Marrakech', 'Marrakech', 'Marrakech', 'Marrakech', 'Marrakech', 'Marrakech', 'Marrakech', 'Marrakech', 'Marrakech', 'Marrakech', 'Marrakech', 'Marrakech', 'Marrakech', 'Marrakech', 'Marrakech', 'Marrakech', 'Marrakech', 'Marrakech', 'Marrakech', 'Marrakech', 'Marrakech', 'Marrakech', 'Marrakech', 'Marrakech', 'Marrakech', 'Marrakech', 'Marrakech', 'Marrakech', 'Marrakech', 'Monte Carlo', 'Monte Carlo', 'Monte Carlo', 'Monte Carlo', 'Monte Carlo', 'Monte Carlo', 'Monte Carlo', 'Monte Carlo', 'Monte Carlo', 'Monte Carlo', 'Monte Carlo', 'Monte Carlo', 'Monte Carlo', 'Monte Carlo', 'Monte Carlo', 'Monte Carlo', 'Monte Carlo', 'Monte Carlo', 'Monte Carlo', 'Monte Carlo', 'Monte Carlo', 'Monte Carlo', 'Monte Carlo', 'Monte Carlo', 'Monte Carlo', 'Monte Carlo', 'Monte Carlo', 'Monte Carlo', 'Monte Carlo', 'Monte Carlo', 'Monte Carlo', 'Monte Carlo', 'Monte Carlo', 'Monte Carlo', 'Monte Carlo', 'Monte Carlo', 'Monte Carlo', 'Monte Carlo', 'Monte Carlo', 'Monte Carlo', 'Monte Carlo', 'Monte Carlo', 'Monte Carlo', 'Monte Carlo', 'Monte Carlo', 'Monte Carlo', 'Monte Carlo', 'Monte Carlo', 'Monte Carlo', 'Monte Carlo', 'Monte Carlo', 'Monte Carlo', 'Monte Carlo', 'Monte Carlo', 'Monte Carlo', 'Barcelona', 'Barcelona', 'Barcelona', 'Barcelona', 'Barcelona', 'Barcelona', 'Barcelona', 'Barcelona', 'Barcelona', 'Barcelona', 'Barcelona', 'Barcelona', 'Barcelona', 'Barcelona', 'Barcelona', 'Barcelona', 'Barcelona', 'Barcelona', 'Barcelona', 'Barcelona', 'Barcelona', 'Barcelona', 'Barcelona', 'Barcelona', 'Barcelona', 'Barcelona', 'Barcelona', 'Barcelona', 'Barcelona', 'Barcelona', 'Barcelona', 'Barcelona', 'Barcelona', 'Barcelona', 'Barcelona', 'Barcelona', 'Barcelona', 'Barcelona', 'Barcelona', 'Barcelona', 'Barcelona', 'Barcelona', 'Barcelona', 'Barcelona', 'Barcelona', 'Barcelona', 'Barcelona', 'Budapest', 'Budapest', 'Budapest', 'Budapest', 'Budapest', 'Budapest', 'Budapest', 'Budapest', 'Budapest', 'Budapest', 'Budapest', 'Budapest', 'Budapest', 'Budapest', 'Budapest', 'Budapest', 'Budapest', 'Budapest', 'Budapest', 'Budapest', 'Budapest', 'Budapest', 'Budapest', 'Budapest', 'Budapest', 'Budapest', 'Budapest', 'Estoril', 'Estoril', 'Estoril', 'Estoril', 'Estoril', 'Estoril', 'Estoril', 'Estoril', 'Estoril', 'Estoril', 'Estoril', 'Estoril', 'Estoril', 'Estoril', 'Estoril', 'Estoril', 'Estoril', 'Estoril', 'Estoril', 'Estoril', 'Estoril', 'Estoril', 'Estoril', 'Estoril', 'Estoril', 'Estoril', 'Estoril', 'Munich', 'Munich', 'Munich', 'Munich', 'Munich', 'Munich', 'Munich', 'Munich', 'Munich', 'Munich', 'Munich', 'Munich', 'Munich', 'Munich', 'Munich', 'Munich', 'Munich', 'Munich', 'Munich', 'Munich', 'Munich', 'Munich', 'Munich', 'Munich', 'Munich', 'Munich', 'Munich', 'Madrid', 'Madrid', 'Madrid', 'Madrid', 'Madrid', 'Madrid', 'Madrid', 'Madrid', 'Madrid', 'Madrid', 'Madrid', 'Madrid', 'Madrid', 'Madrid', 'Madrid', 'Madrid', 'Madrid', 'Madrid', 'Madrid', 'Madrid', 'Madrid', 'Madrid', 'Madrid', 'Madrid', 'Madrid', 'Madrid', 'Madrid', 'Madrid', 'Madrid', 'Madrid', 'Madrid', 'Madrid', 'Madrid', 'Madrid', 'Madrid', 'Madrid', 'Madrid', 'Madrid', 'Madrid', 'Madrid', 'Madrid', 'Madrid', 'Madrid', 'Madrid', 'Madrid', 'Madrid', 'Madrid', 'Madrid', 'Madrid', 'Madrid', 'Madrid', 'Madrid', 'Madrid', 'Madrid', 'Madrid', 'Rome', 'Rome', 'Rome', 'Rome', 'Rome', 'Rome', 'Rome', 'Rome', 'Rome', 'Rome', 'Rome', 'Rome', 'Rome', 'Rome', 'Rome', 'Rome', 'Rome', 'Rome', 'Rome', 'Rome', 'Rome', 'Rome', 'Rome', 'Rome', 'Rome', 'Rome', 'Rome', 'Rome', 'Rome', 'Rome', 'Rome', 'Rome', 'Rome', 'Rome', 'Rome', 'Rome', 'Rome', 'Rome', 'Rome', 'Rome', 'Rome', 'Rome', 'Rome', 'Rome', 'Rome', 'Rome', 'Rome', 'Rome', 'Rome', 'Rome', 'Rome', 'Rome', 'Rome', 'Rome', 'Rome', 'Geneva', 'Geneva', 'Geneva', 'Geneva', 'Geneva', 'Geneva', 'Geneva', 'Geneva', 'Geneva', 'Geneva', 'Geneva', 'Geneva', 'Geneva', 'Geneva', 'Geneva', 'Geneva', 'Geneva', 'Geneva', 'Geneva', 'Geneva', 'Geneva', 'Geneva', 'Geneva', 'Geneva', 'Geneva', 'Geneva', 'Geneva', 'Lyon', 'Lyon', 'Lyon', 'Lyon', 'Lyon', 'Lyon', 'Lyon', 'Lyon', 'Lyon', 'Lyon', 'Lyon', 'Lyon', 'Lyon', 'Lyon', 'Lyon', 'Lyon', 'Lyon', 'Lyon', 'Lyon', 'Lyon', 'Lyon', 'Lyon', 'Lyon', 'Lyon', 'Lyon', 'Lyon', 'Lyon', 'Paris', 'Paris', 'Paris', 'Paris', 'Paris', 'Paris', 'Paris', 'Paris', 'Paris', 'Paris', 'Paris', 'Paris', 'Paris', 'Paris', 'Paris', 'Paris', 'Paris', 'Paris', 'Paris', 'Paris', 'Paris', 'Paris', 'Paris', 'Paris', 'Paris', 'Paris', 'Paris', 'Paris', 'Paris', 'Paris', 'Paris', 'Paris', 'Paris', 'Paris', 'Paris', 'Paris', 'Paris', 'Paris', 'Paris', 'Paris', 'Paris', 'Paris', 'Paris', 'Paris', 'Paris', 'Paris', 'Paris', 'Paris', 'Paris', 'Paris', 'Paris', 'Paris', 'Paris', 'Paris', 'Paris', 'Paris', 'Paris', 'Paris', 'Paris', 'Paris', 'Paris', 'Paris', 'Paris', 'Paris', 'Paris', 'Paris', 'Paris', 'Paris', 'Paris', 'Paris', 'Paris', 'Paris', 'Paris', 'Paris', 'Paris', 'Paris', 'Paris', 'Paris', 'Paris', 'Paris', 'Paris', 'Paris', 'Paris', 'Paris', 'Paris', 'Paris', 'Paris', 'Paris', 'Paris', 'Paris', 'Paris', 'Paris', 'Paris', 'Paris', 'Paris', 'Paris', 'Paris', 'Paris', 'Paris', 'Paris', 'Paris', 'Paris', 'Paris', 'Paris', 'Paris', 'Paris', 'Paris', 'Paris', 'Paris', 'Paris', 'Paris', 'Paris', 'Paris', 'Paris', 'Paris', 'Paris', 'Paris', 'Paris', 'Paris', 'Paris', 'Paris', 'Paris', 'Paris', 'Paris', 'Paris', 'Paris', 'Paris', \"'s-Hertogenbosch\", \"'s-Hertogenbosch\", \"'s-Hertogenbosch\", \"'s-Hertogenbosch\", \"'s-Hertogenbosch\", \"'s-Hertogenbosch\", \"'s-Hertogenbosch\", \"'s-Hertogenbosch\", \"'s-Hertogenbosch\", \"'s-Hertogenbosch\", \"'s-Hertogenbosch\", \"'s-Hertogenbosch\", \"'s-Hertogenbosch\", \"'s-Hertogenbosch\", \"'s-Hertogenbosch\", \"'s-Hertogenbosch\", \"'s-Hertogenbosch\", \"'s-Hertogenbosch\", \"'s-Hertogenbosch\", \"'s-Hertogenbosch\", \"'s-Hertogenbosch\", \"'s-Hertogenbosch\", \"'s-Hertogenbosch\", \"'s-Hertogenbosch\", \"'s-Hertogenbosch\", \"'s-Hertogenbosch\", \"'s-Hertogenbosch\", 'Stuttgart', 'Stuttgart', 'Stuttgart', 'Stuttgart', 'Stuttgart', 'Stuttgart', 'Stuttgart', 'Stuttgart', 'Stuttgart', 'Stuttgart', 'Stuttgart', 'Stuttgart', 'Stuttgart', 'Stuttgart', 'Stuttgart', 'Stuttgart', 'Stuttgart', 'Stuttgart', 'Stuttgart', 'Stuttgart', 'Stuttgart', 'Stuttgart', 'Stuttgart', 'Stuttgart', 'Stuttgart', 'Stuttgart', 'Stuttgart', 'Halle', 'Halle', 'Halle', 'Halle', 'Halle', 'Halle', 'Halle', 'Halle', 'Halle', 'Halle', 'Halle', 'Halle', 'Halle', 'Halle', 'Halle', 'Halle', 'Halle', 'Halle', 'Halle', 'Halle', 'Halle', 'Halle', 'Halle', 'Halle', 'Halle', 'Halle', 'Halle', 'Halle', 'Halle', 'Halle', 'Halle', 'Queens Club', 'Queens Club', 'Queens Club', 'Queens Club', 'Queens Club', 'Queens Club', 'Queens Club', 'Queens Club', 'Queens Club', 'Queens Club', 'Queens Club', 'Queens Club', 'Queens Club', 'Queens Club', 'Queens Club', 'Queens Club', 'Queens Club', 'Queens Club', 'Queens Club', 'Queens Club', 'Queens Club', 'Queens Club', 'Queens Club', 'Queens Club', 'Queens Club', 'Queens Club', 'Queens Club', 'Queens Club', 'Queens Club', 'Queens Club', 'Queens Club', 'Antalya', 'Antalya', 'Antalya', 'Antalya', 'Antalya', 'Antalya', 'Antalya', 'Antalya', 'Antalya', 'Antalya', 'Antalya', 'Antalya', 'Antalya', 'Antalya', 'Antalya', 'Antalya', 'Antalya', 'Antalya', 'Antalya', 'Antalya', 'Antalya', 'Antalya', 'Antalya', 'Antalya', 'Antalya', 'Antalya', 'Antalya', 'Eastbourne', 'Eastbourne', 'Eastbourne', 'Eastbourne', 'Eastbourne', 'Eastbourne', 'Eastbourne', 'Eastbourne', 'Eastbourne', 'Eastbourne', 'Eastbourne', 'Eastbourne', 'Eastbourne', 'Eastbourne', 'Eastbourne', 'Eastbourne', 'Eastbourne', 'Eastbourne', 'Eastbourne', 'Eastbourne', 'Eastbourne', 'Eastbourne', 'Eastbourne', 'Eastbourne', 'Eastbourne', 'Eastbourne', 'Eastbourne', 'London', 'London', 'London', 'London', 'London', 'London', 'London', 'London', 'London', 'London', 'London', 'London', 'London', 'London', 'London', 'London', 'London', 'London', 'London', 'London', 'London', 'London', 'London', 'London', 'London', 'London', 'London', 'London', 'London', 'London', 'London', 'London', 'London', 'London', 'London', 'London', 'London', 'London', 'London', 'London', 'London', 'London', 'London', 'London', 'London', 'London', 'London', 'London', 'London', 'London', 'London', 'London', 'London', 'London', 'London', 'London', 'London', 'London', 'London', 'London', 'London', 'London', 'London', 'London', 'London', 'London', 'London', 'London', 'London', 'London', 'London', 'London', 'London', 'London', 'London', 'London', 'London', 'London', 'London', 'London', 'London', 'London', 'London', 'London', 'London', 'London', 'London', 'London', 'London', 'London', 'London', 'London', 'London', 'London', 'London', 'London', 'London', 'London', 'London', 'London', 'London', 'London', 'London', 'London', 'London', 'London', 'London', 'London', 'London', 'London', 'London', 'London', 'London', 'London', 'London', 'London', 'London', 'London', 'London', 'London', 'London', 'London', 'London', 'London', 'London', 'London', 'London', 'Bastad', 'Bastad', 'Bastad', 'Bastad', 'Bastad', 'Bastad', 'Bastad', 'Bastad', 'Bastad', 'Bastad', 'Bastad', 'Bastad', 'Bastad', 'Bastad', 'Bastad', 'Bastad', 'Bastad', 'Bastad', 'Bastad', 'Bastad', 'Bastad', 'Bastad', 'Bastad', 'Bastad', 'Bastad', 'Bastad', 'Bastad', 'Newport', 'Newport', 'Newport', 'Newport', 'Newport', 'Newport', 'Newport', 'Newport', 'Newport', 'Newport', 'Newport', 'Newport', 'Newport', 'Newport', 'Newport', 'Newport', 'Newport', 'Newport', 'Newport', 'Newport', 'Newport', 'Newport', 'Newport', 'Newport', 'Newport', 'Newport', 'Newport', 'Umag', 'Umag', 'Umag', 'Umag', 'Umag', 'Umag', 'Umag', 'Umag', 'Umag', 'Umag', 'Umag', 'Umag', 'Umag', 'Umag', 'Umag', 'Umag', 'Umag', 'Umag', 'Umag', 'Umag', 'Umag', 'Umag', 'Umag', 'Umag', 'Umag', 'Umag', 'Umag', 'Atlanta', 'Atlanta', 'Atlanta', 'Atlanta', 'Atlanta', 'Atlanta', 'Atlanta', 'Atlanta', 'Atlanta', 'Atlanta', 'Atlanta', 'Atlanta', 'Atlanta', 'Atlanta', 'Atlanta', 'Atlanta', 'Atlanta', 'Atlanta', 'Atlanta', 'Atlanta', 'Atlanta', 'Atlanta', 'Atlanta', 'Atlanta', 'Atlanta', 'Atlanta', 'Atlanta', 'Gstaad', 'Gstaad', 'Gstaad', 'Gstaad', 'Gstaad', 'Gstaad', 'Gstaad', 'Gstaad', 'Gstaad', 'Gstaad', 'Gstaad', 'Gstaad', 'Gstaad', 'Gstaad', 'Gstaad', 'Gstaad', 'Gstaad', 'Gstaad', 'Gstaad', 'Gstaad', 'Gstaad', 'Gstaad', 'Gstaad', 'Gstaad', 'Gstaad', 'Gstaad', 'Gstaad', 'Hamburg', 'Hamburg', 'Hamburg', 'Hamburg', 'Hamburg', 'Hamburg', 'Hamburg', 'Hamburg', 'Hamburg', 'Hamburg', 'Hamburg', 'Hamburg', 'Hamburg', 'Hamburg', 'Hamburg', 'Hamburg', 'Hamburg', 'Hamburg', 'Hamburg', 'Hamburg', 'Hamburg', 'Hamburg', 'Hamburg', 'Hamburg', 'Hamburg', 'Hamburg', 'Hamburg', 'Hamburg', 'Hamburg', 'Hamburg', 'Hamburg', 'Kitzbuhel', 'Kitzbuhel', 'Kitzbuhel', 'Kitzbuhel', 'Kitzbuhel', 'Kitzbuhel', 'Kitzbuhel', 'Kitzbuhel', 'Kitzbuhel', 'Kitzbuhel', 'Kitzbuhel', 'Kitzbuhel', 'Kitzbuhel', 'Kitzbuhel', 'Kitzbuhel', 'Kitzbuhel', 'Kitzbuhel', 'Kitzbuhel', 'Kitzbuhel', 'Kitzbuhel', 'Kitzbuhel', 'Kitzbuhel', 'Kitzbuhel', 'Kitzbuhel', 'Kitzbuhel', 'Kitzbuhel', 'Kitzbuhel', 'Los Cabos', 'Los Cabos', 'Los Cabos', 'Los Cabos', 'Los Cabos', 'Los Cabos', 'Los Cabos', 'Los Cabos', 'Los Cabos', 'Los Cabos', 'Los Cabos', 'Los Cabos', 'Los Cabos', 'Los Cabos', 'Los Cabos', 'Los Cabos', 'Los Cabos', 'Los Cabos', 'Los Cabos', 'Los Cabos', 'Los Cabos', 'Los Cabos', 'Los Cabos', 'Los Cabos', 'Los Cabos', 'Los Cabos', 'Los Cabos', 'Washington', 'Washington', 'Washington', 'Washington', 'Washington', 'Washington', 'Washington', 'Washington', 'Washington', 'Washington', 'Washington', 'Washington', 'Washington', 'Washington', 'Washington', 'Washington', 'Washington', 'Washington', 'Washington', 'Washington', 'Washington', 'Washington', 'Washington', 'Washington', 'Washington', 'Washington', 'Washington', 'Washington', 'Washington', 'Washington', 'Washington', 'Washington', 'Washington', 'Washington', 'Washington', 'Washington', 'Washington', 'Washington', 'Washington', 'Washington', 'Washington', 'Washington', 'Washington', 'Washington', 'Washington', 'Washington', 'Washington', 'Montreal', 'Montreal', 'Montreal', 'Montreal', 'Montreal', 'Montreal', 'Montreal', 'Montreal', 'Montreal', 'Montreal', 'Montreal', 'Montreal', 'Montreal', 'Montreal', 'Montreal', 'Montreal', 'Montreal', 'Montreal', 'Montreal', 'Montreal', 'Montreal', 'Montreal', 'Montreal', 'Montreal', 'Montreal', 'Montreal', 'Montreal', 'Montreal', 'Montreal', 'Montreal', 'Montreal', 'Montreal', 'Montreal', 'Montreal', 'Montreal', 'Montreal', 'Montreal', 'Montreal', 'Montreal', 'Montreal', 'Montreal', 'Montreal', 'Montreal', 'Montreal', 'Montreal', 'Montreal', 'Montreal', 'Montreal', 'Montreal', 'Montreal', 'Montreal', 'Montreal', 'Montreal', 'Montreal', 'Montreal', 'Cincinnati', 'Cincinnati', 'Cincinnati', 'Cincinnati', 'Cincinnati', 'Cincinnati', 'Cincinnati', 'Cincinnati', 'Cincinnati', 'Cincinnati', 'Cincinnati', 'Cincinnati', 'Cincinnati', 'Cincinnati', 'Cincinnati', 'Cincinnati', 'Cincinnati', 'Cincinnati', 'Cincinnati', 'Cincinnati', 'Cincinnati', 'Cincinnati', 'Cincinnati', 'Cincinnati', 'Cincinnati', 'Cincinnati', 'Cincinnati', 'Cincinnati', 'Cincinnati', 'Cincinnati', 'Cincinnati', 'Cincinnati', 'Cincinnati', 'Cincinnati', 'Cincinnati', 'Cincinnati', 'Cincinnati', 'Cincinnati', 'Cincinnati', 'Cincinnati', 'Cincinnati', 'Cincinnati', 'Cincinnati', 'Cincinnati', 'Cincinnati', 'Cincinnati', 'Cincinnati', 'Cincinnati', 'Cincinnati', 'Cincinnati', 'Cincinnati', 'Cincinnati', 'Cincinnati', 'Cincinnati', 'Cincinnati', 'Winston-Salem', 'Winston-Salem', 'Winston-Salem', 'Winston-Salem', 'Winston-Salem', 'Winston-Salem', 'Winston-Salem', 'Winston-Salem', 'Winston-Salem', 'Winston-Salem', 'Winston-Salem', 'Winston-Salem', 'Winston-Salem', 'Winston-Salem', 'Winston-Salem', 'Winston-Salem', 'Winston-Salem', 'Winston-Salem', 'Winston-Salem', 'Winston-Salem', 'Winston-Salem', 'Winston-Salem', 'Winston-Salem', 'Winston-Salem', 'Winston-Salem', 'Winston-Salem', 'Winston-Salem', 'Winston-Salem', 'Winston-Salem', 'Winston-Salem', 'Winston-Salem', 'Winston-Salem', 'Winston-Salem', 'Winston-Salem', 'Winston-Salem', 'Winston-Salem', 'Winston-Salem', 'Winston-Salem', 'Winston-Salem', 'Winston-Salem', 'Winston-Salem', 'Winston-Salem', 'Winston-Salem', 'Winston-Salem', 'Winston-Salem', 'Winston-Salem', 'Winston-Salem', 'New York', 'New York', 'New York', 'New York', 'New York', 'New York', 'New York', 'New York', 'New York', 'New York', 'New York', 'New York', 'New York', 'New York', 'New York', 'New York', 'New York', 'New York', 'New York', 'New York', 'New York', 'New York', 'New York', 'New York', 'New York', 'New York', 'New York', 'New York', 'New York', 'New York', 'New York', 'New York', 'New York', 'New York', 'New York', 'New York', 'New York', 'New York', 'New York', 'New York', 'New York', 'New York', 'New York', 'New York', 'New York', 'New York', 'New York', 'New York', 'New York', 'New York', 'New York', 'New York', 'New York', 'New York', 'New York', 'New York', 'New York', 'New York', 'New York', 'New York', 'New York', 'New York', 'New York', 'New York', 'New York', 'New York', 'New York', 'New York', 'New York', 'New York', 'New York', 'New York', 'New York', 'New York', 'New York', 'New York', 'New York', 'New York', 'New York', 'New York', 'New York', 'New York', 'New York', 'New York', 'New York', 'New York', 'New York', 'New York', 'New York', 'New York', 'New York', 'New York', 'New York', 'New York', 'New York', 'New York', 'New York', 'New York', 'New York', 'New York', 'New York', 'New York', 'New York', 'New York', 'New York', 'New York', 'New York', 'New York', 'New York', 'New York', 'New York', 'New York', 'New York', 'New York', 'New York', 'New York', 'New York', 'New York', 'New York', 'New York', 'New York', 'New York', 'New York', 'New York', 'New York', 'New York', 'New York', 'Metz', 'Metz', 'Metz', 'Metz', 'Metz', 'Metz', 'Metz', 'Metz', 'Metz', 'Metz', 'Metz', 'Metz', 'Metz', 'Metz', 'Metz', 'Metz', 'Metz', 'Metz', 'Metz', 'Metz', 'Metz', 'Metz', 'Metz', 'Metz', 'Metz', 'Metz', 'Metz', 'St. Petersburg', 'St. Petersburg', 'St. Petersburg', 'St. Petersburg', 'St. Petersburg', 'St. Petersburg', 'St. Petersburg', 'St. Petersburg', 'St. Petersburg', 'St. Petersburg', 'St. Petersburg', 'St. Petersburg', 'St. Petersburg', 'St. Petersburg', 'St. Petersburg', 'St. Petersburg', 'St. Petersburg', 'St. Petersburg', 'St. Petersburg', 'St. Petersburg', 'St. Petersburg', 'St. Petersburg', 'St. Petersburg', 'St. Petersburg', 'St. Petersburg', 'St. Petersburg', 'St. Petersburg', 'Chengdu', 'Chengdu', 'Chengdu', 'Chengdu', 'Chengdu', 'Chengdu', 'Chengdu', 'Chengdu', 'Chengdu', 'Chengdu', 'Chengdu', 'Chengdu', 'Chengdu', 'Chengdu', 'Chengdu', 'Chengdu', 'Chengdu', 'Chengdu', 'Chengdu', 'Chengdu', 'Chengdu', 'Chengdu', 'Chengdu', 'Chengdu', 'Chengdu', 'Chengdu', 'Chengdu', 'Zhuhai', 'Zhuhai', 'Zhuhai', 'Zhuhai', 'Zhuhai', 'Zhuhai', 'Zhuhai', 'Zhuhai', 'Zhuhai', 'Zhuhai', 'Zhuhai', 'Zhuhai', 'Zhuhai', 'Zhuhai', 'Zhuhai', 'Zhuhai', 'Zhuhai', 'Zhuhai', 'Zhuhai', 'Zhuhai', 'Zhuhai', 'Zhuhai', 'Zhuhai', 'Zhuhai', 'Zhuhai', 'Zhuhai', 'Zhuhai', 'Beijing', 'Beijing', 'Beijing', 'Beijing', 'Beijing', 'Beijing', 'Beijing', 'Beijing', 'Beijing', 'Beijing', 'Beijing', 'Beijing', 'Beijing', 'Beijing', 'Beijing', 'Beijing', 'Beijing', 'Beijing', 'Beijing', 'Beijing', 'Beijing', 'Beijing', 'Beijing', 'Beijing', 'Beijing', 'Beijing', 'Beijing', 'Beijing', 'Beijing', 'Beijing', 'Beijing', 'Tokyo', 'Tokyo', 'Tokyo', 'Tokyo', 'Tokyo', 'Tokyo', 'Tokyo', 'Tokyo', 'Tokyo', 'Tokyo', 'Tokyo', 'Tokyo', 'Tokyo', 'Tokyo', 'Tokyo', 'Tokyo', 'Tokyo', 'Tokyo', 'Tokyo', 'Tokyo', 'Tokyo', 'Tokyo', 'Tokyo', 'Tokyo', 'Tokyo', 'Tokyo', 'Tokyo', 'Tokyo', 'Tokyo', 'Tokyo', 'Tokyo']\n"
     ]
    }
   ],
   "source": [
    "print ( data[\"Location\"])"
   ]
  },
  {
   "cell_type": "markdown",
   "metadata": {},
   "source": [
    "**Todo**: check `csv.reader` and `csv.dictreader`\n",
    " https://docs.python.org/3/library/csv.html."
   ]
  },
  {
   "cell_type": "markdown",
   "metadata": {},
   "source": [
    "## Now Try answering the following questions\n",
    "\n",
    " - What is the number of matches?\n",
    " - List the tournament names\n",
    " - List the player names\n",
    " - List the comments\n",
    " - Find player with most wins\n",
    " \n",
    " \n",
    "*Do not look at the answers below!*"
   ]
  },
  {
   "cell_type": "code",
   "execution_count": null,
   "metadata": {},
   "outputs": [],
   "source": []
  },
  {
   "cell_type": "code",
   "execution_count": null,
   "metadata": {},
   "outputs": [],
   "source": []
  },
  {
   "cell_type": "code",
   "execution_count": null,
   "metadata": {},
   "outputs": [],
   "source": []
  },
  {
   "cell_type": "code",
   "execution_count": null,
   "metadata": {},
   "outputs": [],
   "source": []
  },
  {
   "cell_type": "markdown",
   "metadata": {},
   "source": [
    "## What is the number of matches?"
   ]
  },
  {
   "cell_type": "code",
   "execution_count": 7,
   "metadata": {},
   "outputs": [
    {
     "ename": "KeyError",
     "evalue": "'ATP'",
     "output_type": "error",
     "traceback": [
      "\u001b[0;31m---------------------------------------------------------------------------\u001b[0m",
      "\u001b[0;31mKeyError\u001b[0m                                  Traceback (most recent call last)",
      "\u001b[0;32m<ipython-input-7-447133295e1d>\u001b[0m in \u001b[0;36m<module>\u001b[0;34m\u001b[0m\n\u001b[0;32m----> 1\u001b[0;31m \u001b[0mprint\u001b[0m \u001b[0;34m(\u001b[0m \u001b[0mlen\u001b[0m\u001b[0;34m(\u001b[0m\u001b[0mdata\u001b[0m\u001b[0;34m[\u001b[0m\u001b[0;34m\"ATP\"\u001b[0m\u001b[0;34m]\u001b[0m\u001b[0;34m)\u001b[0m \u001b[0;34m)\u001b[0m\u001b[0;34m\u001b[0m\u001b[0;34m\u001b[0m\u001b[0m\n\u001b[0m",
      "\u001b[0;31mKeyError\u001b[0m: 'ATP'"
     ]
    }
   ],
   "source": [
    "print ( len(data[\"ATP\"]) )"
   ]
  },
  {
   "cell_type": "markdown",
   "metadata": {},
   "source": [
    "## List the tournament names"
   ]
  },
  {
   "cell_type": "code",
   "execution_count": 8,
   "metadata": {},
   "outputs": [
    {
     "name": "stdout",
     "output_type": "stream",
     "text": [
      "58\n",
      "{'Maharashtra Open', 'Open Sud de France', 'Sydney International', 'Grand Prix Hassan II', 'Argentina Open', 'Sony Ericsson Open', \"Queen's Club Championships\", 'Dubai Tennis Championships', 'Qatar Exxon Mobil Open', 'China Open', 'Zhuhai Open', 'Mercedes Cup', 'Chengdu Open', 'Hall of Fame Championships', 'Antalya Open', 'Wimbledon', 'Croatia Open', 'Hungarian Open', 'Lyon Open', 'Rosmalen Grass Court Championships', 'BNP Paribas Open', 'Millennium Estoril Open', 'Australian Open', 'Open 13', 'Suisse Open Gstaad', 'ABN AMRO World Tennis Tournament', 'German Tennis Championships', 'Eastbourne International', 'Citi Open', 'Brasil Open', 'BMW Open', 'Winston-Salem Open at Wake Forest University', 'Sofia Open', 'Rogers Masters', 'Generali Open', 'Abierto Mexicano Mifel', 'St. Petersburg Open', 'French Open', 'Rakuten Japan Open Tennis Championships', 'Mutua Madrid Open', 'Monte Carlo Masters', 'Cordoba Open', 'Halle Open', 'Western & Southern Financial Group Masters', 'Delray Beach Open', 'Brisbane International', \"U.S. Men's Clay Court Championships\", 'BB&T Atlanta Open', 'Geneva Open', 'Abierto Mexicano', 'Open Banco Sabadell ', 'SkiStar Swedish Open', 'ASB Classic', 'US Open', 'Open de Moselle', 'New York Open', \"Internazionali BNL d'Italia\", 'Rio Open'}\n"
     ]
    }
   ],
   "source": [
    "tournament_names = set(data[\"Tournament\"])\n",
    "print ( len(tournament_names) )\n",
    "print (tournament_names)"
   ]
  },
  {
   "cell_type": "markdown",
   "metadata": {},
   "source": [
    "## List the player names"
   ]
  },
  {
   "cell_type": "code",
   "execution_count": 9,
   "metadata": {},
   "outputs": [
    {
     "name": "stdout",
     "output_type": "stream",
     "text": [
      "278\n",
      "{'Kuzmanov D.', 'Edmund K.', 'Sela D.', 'Giron M.', 'Clarke J.', 'Safwat M.', 'Bemelmans R.', 'Querrey S.', 'Carballes Baena R.', 'Arnaboldi A.', 'Mahut N.', 'Carreno Busta P.', 'Arguello F.', 'Giannessi A.', 'Coppejans K.', 'Londero J.I.', 'Harris L.', 'Bautista Agut R.', 'Nadal R.', 'Andreozzi G.', 'Djokovic N.', 'Baghdatis M.', 'Sousa P.', 'Gasquet R.', 'Sugita Y.', 'Vesely J.', 'Ramos-Vinolas A.', 'Laaksonen H.', 'Dellien H.', 'Garin C.', 'Domingues J.', 'Evans D.', 'Basilashvili N.', 'Uchiyama Y.', 'Medvedev D.', 'Barrere G.', 'Chung H.', 'Kokkinakis T.', 'Daniel T.', 'Sock J.', 'Berankis R.', 'Galovic V.', 'Robredo T.', 'Bagnis F.', 'Altmaier D.', 'Nagal S.', 'Bachinger M.', 'Haase R.', 'Berdych T.', 'Thiem D.', 'Bolelli S.', 'Jaziri M.', 'Copil M.', 'Kadhe A.', 'Fabbiano T.', 'Troicki V.', 'Marterer M.', 'Giraldo S.', 'Zhang Ze.', 'Ito T.', 'Kirkin E.', 'Valkusz M.', 'Statham J.', 'Pouille L.', 'Menendez-Maceiras A.', 'Murray A.', 'Brown D.', 'Zverev M.', 'Moutet C.', 'Cerundolo F.', 'Federer R.', 'Martin A.', 'Berrettini M.', 'Berlocq C.', 'Kecmanovic M.', 'Cecchinato M.', 'Griekspoor T.', 'Munar J.', 'Granollers M.', 'Herbert P.H.', 'Tipsarevic J.', 'Hoang A.', 'Trungelliti M.', 'Zayid M.S.', 'Jubb P.', 'Skugor F.', 'Bublik A.', 'Ilkel C.', 'Garcia-Lopez G.', 'Gulbis E.', 'Stakhovsky S.', 'Khachanov K.', 'Brooksby J.', 'Dzumhur D.', 'Maden Y.', 'Viola M.', 'Klahn B.', 'Li Z.', 'Sandgren T.', 'Ofner S.', 'Fritz T.', 'Coric B.', 'Arevalo M.', 'Benchetrit E.', 'Majchrzak K.', 'Gaio F.', 'Muller A.', 'Sousa J.', 'Hanfmann Y.', 'Otte O.', 'Vatutin A.', 'Weintraub A.', 'Ivashka I.', 'Bai Y.', 'Sakamoto P.', 'Tomic B.', 'Sakharov G.', 'Paul T.', 'Zhang Zh.', 'Torebko P.', 'Lestienne C.', 'Gomez L.', 'Mayer L.', 'Basso A.', 'Baldi F.', 'Catarina L.', 'Halys Q.', 'Pospisil V.', 'Gombos N.', 'Zverev A.', 'Balazs A.', 'Polansky P.', 'Kyrgios N.', 'Krueger M.', 'Duckworth J.', 'Monteiro J.', 'Klizan M.', 'De Minaur A.', 'Wawrinka S.', 'Kubler J.', 'Hurkacz H.', 'Polmans M.', 'Bolt A.', 'Diez S.', 'Mannarino A.', 'Fognini F.', 'Lajovic D.', 'Millman J.', 'Ward J.', 'Jung J.', 'Aragone JC', 'Kuhn N.', 'Donskoy E.', 'Ruud C.', 'Gray A.', 'Ymer E.', 'Cuevas P.', 'Ehrat S.', 'Bedene A.', 'Caruso S.', 'Young D.', 'Vanni L.', 'Gerasimov E.', 'Brands D.', 'Krstin P.', 'Andreev A.', 'Travaglia S.', 'Moraing M.', 'Basic M.', 'Kwiatkowski T.S.', 'Kamke T.', 'Cilic M.', 'Shapovalov D.', 'Roumane R.', 'Opelka R.', 'Thompson J.', 'Verdasco F.', 'Lenz J.', 'Tsonga J.W.', 'Lee D.H.', 'Molleker R.', 'Auger-Aliassime F.', 'Lazarov A.', 'Rosol L.', 'Nava E.', 'Rublev A.', 'Simon G.', 'Popyrin A.', 'Kukushkin M.', 'Kwon S.W.', 'Sonego L.', 'Rubin N.', 'Andujar P.', 'Albot R.', 'Krajinovic F.', 'Seppi A.', 'Goffin D.', 'Rodionov J.', 'Gromley C.', 'King K.', 'Kudla D.', 'Ymer M.', 'Smyczek T.', 'Humbert U.', 'Huesler M.A.', 'Harrison R.', 'Dutra Silva R.', 'Raonic M.', 'Davidovich Fokina A.', 'Dimitrov G.', 'Galan D.E.', 'De Bakker T.', 'Jarry N.', 'Torpegaard M.', 'Pella G.', 'Watanuki Y.', 'Ebden M.', 'Sarmiento R.', 'Paire B.', 'Del Potro J.M.', 'Eubanks C.', 'Martinez P.', 'Darcis S.', 'Kovalik J.', 'Cachin P.', 'Chardy J.', 'Moroni G.', 'Escobedo E.', 'Gojowczyk P.', 'Delbonis F.', 'Lopez F.', 'Sinner J.', 'Svajda Z.', 'Seyboth Wild T.', 'Rola B.', 'Norrie C.', 'Miedler L.', 'Monteiro T.', 'Soeda G.', 'Krawietz K.', 'Ferrer D.', 'Johnson S.', 'Nishioka Y.', 'Fucsovics M.', 'Karlovic I.', 'Tseng C.H.', 'Tsitsipas S.', 'Schnur B.', 'Celikbilek A.', 'Istomin D.', 'Kohlschreiber P.', 'Serdarusic N.', 'Lacko L.', 'Donaldson J.', 'Lopez Villasenor G.', 'Schwartzman D.', 'Lamasine T.', 'Stebe C.M.', 'Fratangelo B.', 'King D.', 'Koepfer D.', 'Lin J.M.', 'Isner J.', 'Struff J.L.', 'Mcdonald M.', 'Lorenzi P.', 'Ramanathan R.', 'Anderson K.', 'Gunneswaran P.', 'Tiafoe F.', 'Monfils G.', 'Djere L.', 'Novak D.', 'Wu D.', 'Mmoh M.', 'Nishikori K.', 'Janvier M.', 'Zapata Miralles B.'}\n"
     ]
    }
   ],
   "source": [
    "player_names = set(data[\"Winner\"]) | set(data[\"Loser\"])\n",
    "print ( len(player_names) )\n",
    "print (player_names)"
   ]
  },
  {
   "cell_type": "markdown",
   "metadata": {},
   "source": [
    "## List the comments"
   ]
  },
  {
   "cell_type": "code",
   "execution_count": 10,
   "metadata": {},
   "outputs": [
    {
     "name": "stdout",
     "output_type": "stream",
     "text": [
      "5\n",
      "{'Walkover', 'Awarded', 'Completed', 'Retired', 'Sched'}\n"
     ]
    }
   ],
   "source": [
    "comments = set(data[\"Comment\"])\n",
    "print ( len(comments) )\n",
    "print (comments)"
   ]
  },
  {
   "cell_type": "markdown",
   "metadata": {},
   "source": [
    "## Find player with most wins"
   ]
  },
  {
   "cell_type": "code",
   "execution_count": 11,
   "metadata": {},
   "outputs": [
    {
     "name": "stdout",
     "output_type": "stream",
     "text": [
      "The best playes is Medvedev D. with 53 victories.\n"
     ]
    }
   ],
   "source": [
    "def most_wins(data):\n",
    "    # mapping playes : number of wins\n",
    "    wins = {}\n",
    "    for p in data[\"Winner\"]:\n",
    "        if p not in wins:\n",
    "            wins[p] = 0\n",
    "        wins[p] += 1\n",
    "    \n",
    "    # create a list (#wins, player)\n",
    "    wins = [ (w,p) for p,w in wins.items() ]\n",
    "    best_player = max(wins)\n",
    "    \n",
    "    return best_player\n",
    "    \n",
    "best_wins, best_player = most_wins(data)\n",
    "\n",
    "print ( \"The best playes is\", best_player, \"with\", best_wins, \"victories.\" )"
   ]
  },
  {
   "cell_type": "markdown",
   "metadata": {},
   "source": [
    "## Start thinking and evaluating your baseline strategy !\n",
    "\n",
    "For instance:\n",
    " - how many times the player with the best ranking won the match?\n",
    " - how much would you gain or lose by always betting 1€ on the best ranked player?"
   ]
  },
  {
   "cell_type": "code",
   "execution_count": 12,
   "metadata": {},
   "outputs": [
    {
     "name": "stdout",
     "output_type": "stream",
     "text": [
      "42\n"
     ]
    }
   ],
   "source": [
    "def best_ranking_wins(data):\n",
    "    count = 0 \n",
    "    winner_rank = data[\"WRank\"]\n",
    "    loser_rank = data[\"LRank\"]\n",
    "    for p in range(len(winner_rank)):\n",
    "        if winner_rank[p] < loser_rank[p]:\n",
    "            count = count + 1 \n",
    "        else: \n",
    "            count = count - 1\n",
    "    return count \n",
    "print(best_ranking_wins(data))"
   ]
  },
  {
   "cell_type": "code",
   "execution_count": 13,
   "metadata": {},
   "outputs": [
    {
     "name": "stdout",
     "output_type": "stream",
     "text": [
      "951.8950000000024\n"
     ]
    }
   ],
   "source": [
    "def is_float(value):\n",
    "  try:\n",
    "    float(value)\n",
    "    return True\n",
    "  except:\n",
    "    return False\n",
    "\n",
    "def bet_tactic(data):\n",
    "    money = 0.0\n",
    "    winner_rank = data[\"WRank\"]\n",
    "    loser_rank = data[\"LRank\"]\n",
    "    odd_w = data[\"B365W\"]\n",
    "    odd_l = data[\"B365L\"]\n",
    "    for p in range(len(winner_rank)):\n",
    "        if winner_rank[p] < loser_rank[p]:\n",
    "            if is_float(odd_w[p]):\n",
    "                money = money + float(odd_w[p])\n",
    "        else: \n",
    "            money = money - 1\n",
    "    return money\n",
    "print(bet_tactic(data))"
   ]
  },
  {
   "cell_type": "code",
   "execution_count": null,
   "metadata": {},
   "outputs": [],
   "source": []
  },
  {
   "cell_type": "code",
   "execution_count": null,
   "metadata": {},
   "outputs": [],
   "source": []
  }
 ],
 "metadata": {
  "kernelspec": {
   "display_name": "Python 3",
   "language": "python",
   "name": "python3"
  },
  "language_info": {
   "codemirror_mode": {
    "name": "ipython",
    "version": 3
   },
   "file_extension": ".py",
   "mimetype": "text/x-python",
   "name": "python",
   "nbconvert_exporter": "python",
   "pygments_lexer": "ipython3",
   "version": "3.7.3"
  },
  "latex_envs": {
   "LaTeX_envs_menu_present": true,
   "autoclose": false,
   "autocomplete": true,
   "bibliofile": "biblio.bib",
   "cite_by": "apalike",
   "current_citInitial": 1,
   "eqLabelWithNumbers": true,
   "eqNumInitial": 1,
   "hotkeys": {
    "equation": "Ctrl-E",
    "itemize": "Ctrl-I"
   },
   "labels_anchors": false,
   "latex_user_defs": false,
   "report_style_numbering": false,
   "user_envs_cfg": false
  }
 },
 "nbformat": 4,
 "nbformat_minor": 2
}
